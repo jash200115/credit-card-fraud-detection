{
  "cells": [
    {
      "cell_type": "code",
      "execution_count": null,
      "id": "008cd4d2",
      "metadata": {
        "id": "008cd4d2"
      },
      "outputs": [],
      "source": [
        "# Libraries for exploring, handling and visualizing data\n",
        "import pandas as pd, numpy as np, matplotlib.pyplot as plt, seaborn as sns, plotly.express as px\n",
        "# Sklearn's preprocessing library\n",
        "from sklearn.preprocessing import StandardScaler\n",
        "# Importing train and test data split\n",
        "from sklearn.model_selection import train_test_split\n",
        "# Sklearn's metrics to evaluate our models\n",
        "from sklearn.metrics import accuracy_score, precision_score, confusion_matrix, recall_score, f1_score\n",
        "# Classifiers\n",
        "from sklearn.ensemble import RandomForestClassifier\n",
        "from sklearn.ensemble import AdaBoostClassifier\n",
        "from sklearn.ensemble import GradientBoostingClassifier\n",
        "from sklearn.tree import DecisionTreeClassifier\n",
        "\n",
        "\n",
        "# Setting theme style and color palette to seaborn\n",
        "sns.set_theme(context = 'notebook', style='darkgrid',palette='muted')"
      ]
    },
    {
      "cell_type": "code",
      "execution_count": null,
      "id": "151730b4",
      "metadata": {
        "id": "151730b4",
        "outputId": "9f329543-a200-473a-af7e-8d41f33319c0"
      },
      "outputs": [
        {
          "data": {
            "text/plain": [
              "'C:\\\\Users\\\\student'"
            ]
          },
          "execution_count": 3,
          "metadata": {},
          "output_type": "execute_result"
        }
      ],
      "source": [
        "pwd"
      ]
    },
    {
      "cell_type": "code",
      "execution_count": null,
      "id": "9222ca4a",
      "metadata": {
        "scrolled": true,
        "id": "9222ca4a",
        "outputId": "462f06c0-3455-46b6-e1c1-3abba12188c5"
      },
      "outputs": [
        {
          "data": {
            "text/html": [
              "<div>\n",
              "<style scoped>\n",
              "    .dataframe tbody tr th:only-of-type {\n",
              "        vertical-align: middle;\n",
              "    }\n",
              "\n",
              "    .dataframe tbody tr th {\n",
              "        vertical-align: top;\n",
              "    }\n",
              "\n",
              "    .dataframe thead th {\n",
              "        text-align: right;\n",
              "    }\n",
              "</style>\n",
              "<table border=\"1\" class=\"dataframe\">\n",
              "  <thead>\n",
              "    <tr style=\"text-align: right;\">\n",
              "      <th></th>\n",
              "      <th>Time</th>\n",
              "      <th>V1</th>\n",
              "      <th>V2</th>\n",
              "      <th>V3</th>\n",
              "      <th>V4</th>\n",
              "      <th>V5</th>\n",
              "      <th>V6</th>\n",
              "      <th>V7</th>\n",
              "      <th>V8</th>\n",
              "      <th>V9</th>\n",
              "      <th>...</th>\n",
              "      <th>V21</th>\n",
              "      <th>V22</th>\n",
              "      <th>V23</th>\n",
              "      <th>V24</th>\n",
              "      <th>V25</th>\n",
              "      <th>V26</th>\n",
              "      <th>V27</th>\n",
              "      <th>V28</th>\n",
              "      <th>Amount</th>\n",
              "      <th>Class</th>\n",
              "    </tr>\n",
              "  </thead>\n",
              "  <tbody>\n",
              "    <tr>\n",
              "      <th>0</th>\n",
              "      <td>0.0</td>\n",
              "      <td>-1.359807</td>\n",
              "      <td>-0.072781</td>\n",
              "      <td>2.536347</td>\n",
              "      <td>1.378155</td>\n",
              "      <td>-0.338321</td>\n",
              "      <td>0.462388</td>\n",
              "      <td>0.239599</td>\n",
              "      <td>0.098698</td>\n",
              "      <td>0.363787</td>\n",
              "      <td>...</td>\n",
              "      <td>-0.018307</td>\n",
              "      <td>0.277838</td>\n",
              "      <td>-0.110474</td>\n",
              "      <td>0.066928</td>\n",
              "      <td>0.128539</td>\n",
              "      <td>-0.189115</td>\n",
              "      <td>0.133558</td>\n",
              "      <td>-0.021053</td>\n",
              "      <td>149.62</td>\n",
              "      <td>0</td>\n",
              "    </tr>\n",
              "    <tr>\n",
              "      <th>1</th>\n",
              "      <td>0.0</td>\n",
              "      <td>1.191857</td>\n",
              "      <td>0.266151</td>\n",
              "      <td>0.166480</td>\n",
              "      <td>0.448154</td>\n",
              "      <td>0.060018</td>\n",
              "      <td>-0.082361</td>\n",
              "      <td>-0.078803</td>\n",
              "      <td>0.085102</td>\n",
              "      <td>-0.255425</td>\n",
              "      <td>...</td>\n",
              "      <td>-0.225775</td>\n",
              "      <td>-0.638672</td>\n",
              "      <td>0.101288</td>\n",
              "      <td>-0.339846</td>\n",
              "      <td>0.167170</td>\n",
              "      <td>0.125895</td>\n",
              "      <td>-0.008983</td>\n",
              "      <td>0.014724</td>\n",
              "      <td>2.69</td>\n",
              "      <td>0</td>\n",
              "    </tr>\n",
              "    <tr>\n",
              "      <th>2</th>\n",
              "      <td>1.0</td>\n",
              "      <td>-1.358354</td>\n",
              "      <td>-1.340163</td>\n",
              "      <td>1.773209</td>\n",
              "      <td>0.379780</td>\n",
              "      <td>-0.503198</td>\n",
              "      <td>1.800499</td>\n",
              "      <td>0.791461</td>\n",
              "      <td>0.247676</td>\n",
              "      <td>-1.514654</td>\n",
              "      <td>...</td>\n",
              "      <td>0.247998</td>\n",
              "      <td>0.771679</td>\n",
              "      <td>0.909412</td>\n",
              "      <td>-0.689281</td>\n",
              "      <td>-0.327642</td>\n",
              "      <td>-0.139097</td>\n",
              "      <td>-0.055353</td>\n",
              "      <td>-0.059752</td>\n",
              "      <td>378.66</td>\n",
              "      <td>0</td>\n",
              "    </tr>\n",
              "    <tr>\n",
              "      <th>3</th>\n",
              "      <td>1.0</td>\n",
              "      <td>-0.966272</td>\n",
              "      <td>-0.185226</td>\n",
              "      <td>1.792993</td>\n",
              "      <td>-0.863291</td>\n",
              "      <td>-0.010309</td>\n",
              "      <td>1.247203</td>\n",
              "      <td>0.237609</td>\n",
              "      <td>0.377436</td>\n",
              "      <td>-1.387024</td>\n",
              "      <td>...</td>\n",
              "      <td>-0.108300</td>\n",
              "      <td>0.005274</td>\n",
              "      <td>-0.190321</td>\n",
              "      <td>-1.175575</td>\n",
              "      <td>0.647376</td>\n",
              "      <td>-0.221929</td>\n",
              "      <td>0.062723</td>\n",
              "      <td>0.061458</td>\n",
              "      <td>123.50</td>\n",
              "      <td>0</td>\n",
              "    </tr>\n",
              "    <tr>\n",
              "      <th>4</th>\n",
              "      <td>2.0</td>\n",
              "      <td>-1.158233</td>\n",
              "      <td>0.877737</td>\n",
              "      <td>1.548718</td>\n",
              "      <td>0.403034</td>\n",
              "      <td>-0.407193</td>\n",
              "      <td>0.095921</td>\n",
              "      <td>0.592941</td>\n",
              "      <td>-0.270533</td>\n",
              "      <td>0.817739</td>\n",
              "      <td>...</td>\n",
              "      <td>-0.009431</td>\n",
              "      <td>0.798278</td>\n",
              "      <td>-0.137458</td>\n",
              "      <td>0.141267</td>\n",
              "      <td>-0.206010</td>\n",
              "      <td>0.502292</td>\n",
              "      <td>0.219422</td>\n",
              "      <td>0.215153</td>\n",
              "      <td>69.99</td>\n",
              "      <td>0</td>\n",
              "    </tr>\n",
              "  </tbody>\n",
              "</table>\n",
              "<p>5 rows × 31 columns</p>\n",
              "</div>"
            ],
            "text/plain": [
              "   Time        V1        V2        V3        V4        V5        V6        V7  \\\n",
              "0   0.0 -1.359807 -0.072781  2.536347  1.378155 -0.338321  0.462388  0.239599   \n",
              "1   0.0  1.191857  0.266151  0.166480  0.448154  0.060018 -0.082361 -0.078803   \n",
              "2   1.0 -1.358354 -1.340163  1.773209  0.379780 -0.503198  1.800499  0.791461   \n",
              "3   1.0 -0.966272 -0.185226  1.792993 -0.863291 -0.010309  1.247203  0.237609   \n",
              "4   2.0 -1.158233  0.877737  1.548718  0.403034 -0.407193  0.095921  0.592941   \n",
              "\n",
              "         V8        V9  ...       V21       V22       V23       V24       V25  \\\n",
              "0  0.098698  0.363787  ... -0.018307  0.277838 -0.110474  0.066928  0.128539   \n",
              "1  0.085102 -0.255425  ... -0.225775 -0.638672  0.101288 -0.339846  0.167170   \n",
              "2  0.247676 -1.514654  ...  0.247998  0.771679  0.909412 -0.689281 -0.327642   \n",
              "3  0.377436 -1.387024  ... -0.108300  0.005274 -0.190321 -1.175575  0.647376   \n",
              "4 -0.270533  0.817739  ... -0.009431  0.798278 -0.137458  0.141267 -0.206010   \n",
              "\n",
              "        V26       V27       V28  Amount  Class  \n",
              "0 -0.189115  0.133558 -0.021053  149.62      0  \n",
              "1  0.125895 -0.008983  0.014724    2.69      0  \n",
              "2 -0.139097 -0.055353 -0.059752  378.66      0  \n",
              "3 -0.221929  0.062723  0.061458  123.50      0  \n",
              "4  0.502292  0.219422  0.215153   69.99      0  \n",
              "\n",
              "[5 rows x 31 columns]"
            ]
          },
          "execution_count": 4,
          "metadata": {},
          "output_type": "execute_result"
        }
      ],
      "source": [
        "# Importing data\n",
        "df = pd.read_csv('creditcard.csv')\n",
        "# Display dataframe\n",
        "df.head()"
      ]
    },
    {
      "cell_type": "code",
      "execution_count": null,
      "id": "ae4b3a39",
      "metadata": {
        "id": "ae4b3a39"
      },
      "outputs": [],
      "source": [
        "# Select features\n",
        "selected_features = ['Time', 'V1', 'V2', 'V3','V4','V5','V6','V7','V8','V9','V10','V11','V12','V13','V14','V15','V16','V17','V18','V19','V20','V21','V22','V23','V24','V25','V26','V27','V28','Amount']"
      ]
    },
    {
      "cell_type": "code",
      "execution_count": null,
      "id": "1125d264",
      "metadata": {
        "id": "1125d264"
      },
      "outputs": [],
      "source": [
        "# Preprocess the data\n",
        "X = df[selected_features]\n",
        "y = df['Class']  # Assuming 'Class' is the target variable"
      ]
    },
    {
      "cell_type": "code",
      "execution_count": null,
      "id": "1c35712c",
      "metadata": {
        "id": "1c35712c",
        "outputId": "e47e0f02-9aeb-441a-8325-3747177cda21"
      },
      "outputs": [
        {
          "data": {
            "text/html": [
              "<div>\n",
              "<style scoped>\n",
              "    .dataframe tbody tr th:only-of-type {\n",
              "        vertical-align: middle;\n",
              "    }\n",
              "\n",
              "    .dataframe tbody tr th {\n",
              "        vertical-align: top;\n",
              "    }\n",
              "\n",
              "    .dataframe thead th {\n",
              "        text-align: right;\n",
              "    }\n",
              "</style>\n",
              "<table border=\"1\" class=\"dataframe\">\n",
              "  <thead>\n",
              "    <tr style=\"text-align: right;\">\n",
              "      <th></th>\n",
              "      <th>Time</th>\n",
              "      <th>V1</th>\n",
              "      <th>V2</th>\n",
              "      <th>V3</th>\n",
              "      <th>V4</th>\n",
              "      <th>V5</th>\n",
              "      <th>V6</th>\n",
              "      <th>V7</th>\n",
              "      <th>V8</th>\n",
              "      <th>V9</th>\n",
              "      <th>...</th>\n",
              "      <th>V20</th>\n",
              "      <th>V21</th>\n",
              "      <th>V22</th>\n",
              "      <th>V23</th>\n",
              "      <th>V24</th>\n",
              "      <th>V25</th>\n",
              "      <th>V26</th>\n",
              "      <th>V27</th>\n",
              "      <th>V28</th>\n",
              "      <th>Amount</th>\n",
              "    </tr>\n",
              "  </thead>\n",
              "  <tbody>\n",
              "    <tr>\n",
              "      <th>0</th>\n",
              "      <td>0.0</td>\n",
              "      <td>-1.359807</td>\n",
              "      <td>-0.072781</td>\n",
              "      <td>2.536347</td>\n",
              "      <td>1.378155</td>\n",
              "      <td>-0.338321</td>\n",
              "      <td>0.462388</td>\n",
              "      <td>0.239599</td>\n",
              "      <td>0.098698</td>\n",
              "      <td>0.363787</td>\n",
              "      <td>...</td>\n",
              "      <td>0.251412</td>\n",
              "      <td>-0.018307</td>\n",
              "      <td>0.277838</td>\n",
              "      <td>-0.110474</td>\n",
              "      <td>0.066928</td>\n",
              "      <td>0.128539</td>\n",
              "      <td>-0.189115</td>\n",
              "      <td>0.133558</td>\n",
              "      <td>-0.021053</td>\n",
              "      <td>149.62</td>\n",
              "    </tr>\n",
              "    <tr>\n",
              "      <th>1</th>\n",
              "      <td>0.0</td>\n",
              "      <td>1.191857</td>\n",
              "      <td>0.266151</td>\n",
              "      <td>0.166480</td>\n",
              "      <td>0.448154</td>\n",
              "      <td>0.060018</td>\n",
              "      <td>-0.082361</td>\n",
              "      <td>-0.078803</td>\n",
              "      <td>0.085102</td>\n",
              "      <td>-0.255425</td>\n",
              "      <td>...</td>\n",
              "      <td>-0.069083</td>\n",
              "      <td>-0.225775</td>\n",
              "      <td>-0.638672</td>\n",
              "      <td>0.101288</td>\n",
              "      <td>-0.339846</td>\n",
              "      <td>0.167170</td>\n",
              "      <td>0.125895</td>\n",
              "      <td>-0.008983</td>\n",
              "      <td>0.014724</td>\n",
              "      <td>2.69</td>\n",
              "    </tr>\n",
              "    <tr>\n",
              "      <th>2</th>\n",
              "      <td>1.0</td>\n",
              "      <td>-1.358354</td>\n",
              "      <td>-1.340163</td>\n",
              "      <td>1.773209</td>\n",
              "      <td>0.379780</td>\n",
              "      <td>-0.503198</td>\n",
              "      <td>1.800499</td>\n",
              "      <td>0.791461</td>\n",
              "      <td>0.247676</td>\n",
              "      <td>-1.514654</td>\n",
              "      <td>...</td>\n",
              "      <td>0.524980</td>\n",
              "      <td>0.247998</td>\n",
              "      <td>0.771679</td>\n",
              "      <td>0.909412</td>\n",
              "      <td>-0.689281</td>\n",
              "      <td>-0.327642</td>\n",
              "      <td>-0.139097</td>\n",
              "      <td>-0.055353</td>\n",
              "      <td>-0.059752</td>\n",
              "      <td>378.66</td>\n",
              "    </tr>\n",
              "    <tr>\n",
              "      <th>3</th>\n",
              "      <td>1.0</td>\n",
              "      <td>-0.966272</td>\n",
              "      <td>-0.185226</td>\n",
              "      <td>1.792993</td>\n",
              "      <td>-0.863291</td>\n",
              "      <td>-0.010309</td>\n",
              "      <td>1.247203</td>\n",
              "      <td>0.237609</td>\n",
              "      <td>0.377436</td>\n",
              "      <td>-1.387024</td>\n",
              "      <td>...</td>\n",
              "      <td>-0.208038</td>\n",
              "      <td>-0.108300</td>\n",
              "      <td>0.005274</td>\n",
              "      <td>-0.190321</td>\n",
              "      <td>-1.175575</td>\n",
              "      <td>0.647376</td>\n",
              "      <td>-0.221929</td>\n",
              "      <td>0.062723</td>\n",
              "      <td>0.061458</td>\n",
              "      <td>123.50</td>\n",
              "    </tr>\n",
              "    <tr>\n",
              "      <th>4</th>\n",
              "      <td>2.0</td>\n",
              "      <td>-1.158233</td>\n",
              "      <td>0.877737</td>\n",
              "      <td>1.548718</td>\n",
              "      <td>0.403034</td>\n",
              "      <td>-0.407193</td>\n",
              "      <td>0.095921</td>\n",
              "      <td>0.592941</td>\n",
              "      <td>-0.270533</td>\n",
              "      <td>0.817739</td>\n",
              "      <td>...</td>\n",
              "      <td>0.408542</td>\n",
              "      <td>-0.009431</td>\n",
              "      <td>0.798278</td>\n",
              "      <td>-0.137458</td>\n",
              "      <td>0.141267</td>\n",
              "      <td>-0.206010</td>\n",
              "      <td>0.502292</td>\n",
              "      <td>0.219422</td>\n",
              "      <td>0.215153</td>\n",
              "      <td>69.99</td>\n",
              "    </tr>\n",
              "    <tr>\n",
              "      <th>...</th>\n",
              "      <td>...</td>\n",
              "      <td>...</td>\n",
              "      <td>...</td>\n",
              "      <td>...</td>\n",
              "      <td>...</td>\n",
              "      <td>...</td>\n",
              "      <td>...</td>\n",
              "      <td>...</td>\n",
              "      <td>...</td>\n",
              "      <td>...</td>\n",
              "      <td>...</td>\n",
              "      <td>...</td>\n",
              "      <td>...</td>\n",
              "      <td>...</td>\n",
              "      <td>...</td>\n",
              "      <td>...</td>\n",
              "      <td>...</td>\n",
              "      <td>...</td>\n",
              "      <td>...</td>\n",
              "      <td>...</td>\n",
              "      <td>...</td>\n",
              "    </tr>\n",
              "    <tr>\n",
              "      <th>284802</th>\n",
              "      <td>172786.0</td>\n",
              "      <td>-11.881118</td>\n",
              "      <td>10.071785</td>\n",
              "      <td>-9.834783</td>\n",
              "      <td>-2.066656</td>\n",
              "      <td>-5.364473</td>\n",
              "      <td>-2.606837</td>\n",
              "      <td>-4.918215</td>\n",
              "      <td>7.305334</td>\n",
              "      <td>1.914428</td>\n",
              "      <td>...</td>\n",
              "      <td>1.475829</td>\n",
              "      <td>0.213454</td>\n",
              "      <td>0.111864</td>\n",
              "      <td>1.014480</td>\n",
              "      <td>-0.509348</td>\n",
              "      <td>1.436807</td>\n",
              "      <td>0.250034</td>\n",
              "      <td>0.943651</td>\n",
              "      <td>0.823731</td>\n",
              "      <td>0.77</td>\n",
              "    </tr>\n",
              "    <tr>\n",
              "      <th>284803</th>\n",
              "      <td>172787.0</td>\n",
              "      <td>-0.732789</td>\n",
              "      <td>-0.055080</td>\n",
              "      <td>2.035030</td>\n",
              "      <td>-0.738589</td>\n",
              "      <td>0.868229</td>\n",
              "      <td>1.058415</td>\n",
              "      <td>0.024330</td>\n",
              "      <td>0.294869</td>\n",
              "      <td>0.584800</td>\n",
              "      <td>...</td>\n",
              "      <td>0.059616</td>\n",
              "      <td>0.214205</td>\n",
              "      <td>0.924384</td>\n",
              "      <td>0.012463</td>\n",
              "      <td>-1.016226</td>\n",
              "      <td>-0.606624</td>\n",
              "      <td>-0.395255</td>\n",
              "      <td>0.068472</td>\n",
              "      <td>-0.053527</td>\n",
              "      <td>24.79</td>\n",
              "    </tr>\n",
              "    <tr>\n",
              "      <th>284804</th>\n",
              "      <td>172788.0</td>\n",
              "      <td>1.919565</td>\n",
              "      <td>-0.301254</td>\n",
              "      <td>-3.249640</td>\n",
              "      <td>-0.557828</td>\n",
              "      <td>2.630515</td>\n",
              "      <td>3.031260</td>\n",
              "      <td>-0.296827</td>\n",
              "      <td>0.708417</td>\n",
              "      <td>0.432454</td>\n",
              "      <td>...</td>\n",
              "      <td>0.001396</td>\n",
              "      <td>0.232045</td>\n",
              "      <td>0.578229</td>\n",
              "      <td>-0.037501</td>\n",
              "      <td>0.640134</td>\n",
              "      <td>0.265745</td>\n",
              "      <td>-0.087371</td>\n",
              "      <td>0.004455</td>\n",
              "      <td>-0.026561</td>\n",
              "      <td>67.88</td>\n",
              "    </tr>\n",
              "    <tr>\n",
              "      <th>284805</th>\n",
              "      <td>172788.0</td>\n",
              "      <td>-0.240440</td>\n",
              "      <td>0.530483</td>\n",
              "      <td>0.702510</td>\n",
              "      <td>0.689799</td>\n",
              "      <td>-0.377961</td>\n",
              "      <td>0.623708</td>\n",
              "      <td>-0.686180</td>\n",
              "      <td>0.679145</td>\n",
              "      <td>0.392087</td>\n",
              "      <td>...</td>\n",
              "      <td>0.127434</td>\n",
              "      <td>0.265245</td>\n",
              "      <td>0.800049</td>\n",
              "      <td>-0.163298</td>\n",
              "      <td>0.123205</td>\n",
              "      <td>-0.569159</td>\n",
              "      <td>0.546668</td>\n",
              "      <td>0.108821</td>\n",
              "      <td>0.104533</td>\n",
              "      <td>10.00</td>\n",
              "    </tr>\n",
              "    <tr>\n",
              "      <th>284806</th>\n",
              "      <td>172792.0</td>\n",
              "      <td>-0.533413</td>\n",
              "      <td>-0.189733</td>\n",
              "      <td>0.703337</td>\n",
              "      <td>-0.506271</td>\n",
              "      <td>-0.012546</td>\n",
              "      <td>-0.649617</td>\n",
              "      <td>1.577006</td>\n",
              "      <td>-0.414650</td>\n",
              "      <td>0.486180</td>\n",
              "      <td>...</td>\n",
              "      <td>0.382948</td>\n",
              "      <td>0.261057</td>\n",
              "      <td>0.643078</td>\n",
              "      <td>0.376777</td>\n",
              "      <td>0.008797</td>\n",
              "      <td>-0.473649</td>\n",
              "      <td>-0.818267</td>\n",
              "      <td>-0.002415</td>\n",
              "      <td>0.013649</td>\n",
              "      <td>217.00</td>\n",
              "    </tr>\n",
              "  </tbody>\n",
              "</table>\n",
              "<p>284807 rows × 30 columns</p>\n",
              "</div>"
            ],
            "text/plain": [
              "            Time         V1         V2        V3        V4        V5  \\\n",
              "0            0.0  -1.359807  -0.072781  2.536347  1.378155 -0.338321   \n",
              "1            0.0   1.191857   0.266151  0.166480  0.448154  0.060018   \n",
              "2            1.0  -1.358354  -1.340163  1.773209  0.379780 -0.503198   \n",
              "3            1.0  -0.966272  -0.185226  1.792993 -0.863291 -0.010309   \n",
              "4            2.0  -1.158233   0.877737  1.548718  0.403034 -0.407193   \n",
              "...          ...        ...        ...       ...       ...       ...   \n",
              "284802  172786.0 -11.881118  10.071785 -9.834783 -2.066656 -5.364473   \n",
              "284803  172787.0  -0.732789  -0.055080  2.035030 -0.738589  0.868229   \n",
              "284804  172788.0   1.919565  -0.301254 -3.249640 -0.557828  2.630515   \n",
              "284805  172788.0  -0.240440   0.530483  0.702510  0.689799 -0.377961   \n",
              "284806  172792.0  -0.533413  -0.189733  0.703337 -0.506271 -0.012546   \n",
              "\n",
              "              V6        V7        V8        V9  ...       V20       V21  \\\n",
              "0       0.462388  0.239599  0.098698  0.363787  ...  0.251412 -0.018307   \n",
              "1      -0.082361 -0.078803  0.085102 -0.255425  ... -0.069083 -0.225775   \n",
              "2       1.800499  0.791461  0.247676 -1.514654  ...  0.524980  0.247998   \n",
              "3       1.247203  0.237609  0.377436 -1.387024  ... -0.208038 -0.108300   \n",
              "4       0.095921  0.592941 -0.270533  0.817739  ...  0.408542 -0.009431   \n",
              "...          ...       ...       ...       ...  ...       ...       ...   \n",
              "284802 -2.606837 -4.918215  7.305334  1.914428  ...  1.475829  0.213454   \n",
              "284803  1.058415  0.024330  0.294869  0.584800  ...  0.059616  0.214205   \n",
              "284804  3.031260 -0.296827  0.708417  0.432454  ...  0.001396  0.232045   \n",
              "284805  0.623708 -0.686180  0.679145  0.392087  ...  0.127434  0.265245   \n",
              "284806 -0.649617  1.577006 -0.414650  0.486180  ...  0.382948  0.261057   \n",
              "\n",
              "             V22       V23       V24       V25       V26       V27       V28  \\\n",
              "0       0.277838 -0.110474  0.066928  0.128539 -0.189115  0.133558 -0.021053   \n",
              "1      -0.638672  0.101288 -0.339846  0.167170  0.125895 -0.008983  0.014724   \n",
              "2       0.771679  0.909412 -0.689281 -0.327642 -0.139097 -0.055353 -0.059752   \n",
              "3       0.005274 -0.190321 -1.175575  0.647376 -0.221929  0.062723  0.061458   \n",
              "4       0.798278 -0.137458  0.141267 -0.206010  0.502292  0.219422  0.215153   \n",
              "...          ...       ...       ...       ...       ...       ...       ...   \n",
              "284802  0.111864  1.014480 -0.509348  1.436807  0.250034  0.943651  0.823731   \n",
              "284803  0.924384  0.012463 -1.016226 -0.606624 -0.395255  0.068472 -0.053527   \n",
              "284804  0.578229 -0.037501  0.640134  0.265745 -0.087371  0.004455 -0.026561   \n",
              "284805  0.800049 -0.163298  0.123205 -0.569159  0.546668  0.108821  0.104533   \n",
              "284806  0.643078  0.376777  0.008797 -0.473649 -0.818267 -0.002415  0.013649   \n",
              "\n",
              "        Amount  \n",
              "0       149.62  \n",
              "1         2.69  \n",
              "2       378.66  \n",
              "3       123.50  \n",
              "4        69.99  \n",
              "...        ...  \n",
              "284802    0.77  \n",
              "284803   24.79  \n",
              "284804   67.88  \n",
              "284805   10.00  \n",
              "284806  217.00  \n",
              "\n",
              "[284807 rows x 30 columns]"
            ]
          },
          "execution_count": 7,
          "metadata": {},
          "output_type": "execute_result"
        }
      ],
      "source": [
        "X"
      ]
    },
    {
      "cell_type": "code",
      "execution_count": null,
      "id": "4bc5eb1a",
      "metadata": {
        "id": "4bc5eb1a"
      },
      "outputs": [],
      "source": [
        "# Tokenization\n",
        "from transformers import BertTokenizer, BertModel\n",
        "concatenated_features = X.apply(lambda row: ' '.join(map(str, row)), axis=1)\n",
        "tokenizer = BertTokenizer.from_pretrained('bert-base-uncased')\n",
        "tokenized_texts2 = concatenated_features.apply(lambda x: tokenizer.encode(x, add_special_tokens=True))"
      ]
    },
    {
      "cell_type": "code",
      "execution_count": null,
      "id": "4fc38e42",
      "metadata": {
        "id": "4fc38e42"
      },
      "outputs": [],
      "source": [
        "import torch\n",
        "from transformers import BertTokenizer, BertModel\n",
        "\n",
        "# BERT Encoding\n",
        "\n",
        "model = BertModel.from_pretrained('bert-base-uncased')\n",
        "encoded_features = []\n",
        "for tokens in tokenized_texts2:\n",
        "    with torch.no_grad():\n",
        "        outputs = model(torch.tensor(tokens).unsqueeze(0))\n",
        "    last_hidden_states = outputs.last_hidden_state\n",
        "    encoded_features.append(last_hidden_states.mean(dim=1).squeeze().numpy())\n",
        "\n",
        "X_encoded = np.vstack(encoded_features)"
      ]
    },
    {
      "cell_type": "code",
      "execution_count": null,
      "id": "36835694",
      "metadata": {
        "id": "36835694"
      },
      "outputs": [],
      "source": [
        "np.save('X_encoded.npy', X_encoded)"
      ]
    },
    {
      "cell_type": "code",
      "execution_count": null,
      "id": "7fde05cc",
      "metadata": {
        "id": "7fde05cc"
      },
      "outputs": [],
      "source": [
        "X_encoded = np.load('X_encoded.npy')"
      ]
    },
    {
      "cell_type": "code",
      "execution_count": null,
      "id": "a44a2d41",
      "metadata": {
        "id": "a44a2d41",
        "outputId": "17b325f5-dce6-42ac-e20c-7e441036251d"
      },
      "outputs": [
        {
          "name": "stdout",
          "output_type": "stream",
          "text": [
            "Classification Report:\n"
          ]
        },
        {
          "ename": "NameError",
          "evalue": "name 'y_test1' is not defined",
          "output_type": "error",
          "traceback": [
            "\u001b[1;31m---------------------------------------------------------------------------\u001b[0m",
            "\u001b[1;31mNameError\u001b[0m                                 Traceback (most recent call last)",
            "Cell \u001b[1;32mIn[10], line 14\u001b[0m\n\u001b[0;32m     12\u001b[0m \u001b[38;5;66;03m# Evaluate the classifier\u001b[39;00m\n\u001b[0;32m     13\u001b[0m \u001b[38;5;28mprint\u001b[39m(\u001b[38;5;124m\"\u001b[39m\u001b[38;5;124mClassification Report:\u001b[39m\u001b[38;5;124m\"\u001b[39m)\n\u001b[1;32m---> 14\u001b[0m \u001b[38;5;28mprint\u001b[39m(classification_report(y_test1, predictions))\n\u001b[0;32m     15\u001b[0m \u001b[38;5;28mprint\u001b[39m(\u001b[38;5;124m\"\u001b[39m\u001b[38;5;124mAccuracy:\u001b[39m\u001b[38;5;124m\"\u001b[39m, accuracy_score(y_test1, predictions))\n",
            "\u001b[1;31mNameError\u001b[0m: name 'y_test1' is not defined"
          ]
        }
      ],
      "source": [
        "from sklearn.metrics import classification_report\n",
        "# Split the data into train and test sets\n",
        "X_train, X_test, y_train, y_test = train_test_split(X_encoded, y, test_size=0.2, random_state=42)\n",
        "\n",
        "\n",
        "# Train the classifier (Decision Tree)\n",
        "clf = DecisionTreeClassifier()\n",
        "clf.fit(X_train, y_train)\n",
        "\n",
        "# Make predictions on the test set\n",
        "predictions = clf.predict(X_test)"
      ]
    },
    {
      "cell_type": "code",
      "execution_count": null,
      "id": "46f92c94",
      "metadata": {
        "id": "46f92c94",
        "outputId": "3be56607-bae3-484b-95f3-cb6c5de06fd2"
      },
      "outputs": [
        {
          "name": "stdout",
          "output_type": "stream",
          "text": [
            "Classification Report:\n",
            "              precision    recall  f1-score   support\n",
            "\n",
            "           0       1.00      1.00      1.00     56864\n",
            "           1       0.24      0.31      0.27        98\n",
            "\n",
            "    accuracy                           1.00     56962\n",
            "   macro avg       0.62      0.65      0.63     56962\n",
            "weighted avg       1.00      1.00      1.00     56962\n",
            "\n",
            "Accuracy: 0.9971559987359995\n"
          ]
        }
      ],
      "source": [
        "# Evaluate the classifier\n",
        "print(\"Classification Report:\")\n",
        "print(classification_report(y_test, predictions))\n",
        "print(\"Accuracy:\", accuracy_score(y_test, predictions))"
      ]
    },
    {
      "cell_type": "code",
      "execution_count": null,
      "id": "1170286f",
      "metadata": {
        "id": "1170286f",
        "outputId": "63ac6e29-3cb3-404c-f7bc-5aa61b3ef480"
      },
      "outputs": [
        {
          "name": "stdout",
          "output_type": "stream",
          "text": [
            "Class distribution after balancing:\n",
            "0    11807\n",
            "1      492\n",
            "Name: Class, dtype: int64\n"
          ]
        }
      ],
      "source": [
        "import pandas as pd\n",
        "import numpy as np\n",
        "\n",
        "\n",
        "# Combine X_encoded and y into a single DataFrame\n",
        "df_encoded = pd.DataFrame(X_encoded)\n",
        "df_encoded['Class'] = y\n",
        "\n",
        "# Separate entries by class\n",
        "class_1_entries_encoded = df_encoded[df_encoded['Class'] == 1]\n",
        "class_0_entries_encoded = df_encoded[df_encoded['Class'] == 0]\n",
        "\n",
        "# Calculate the number of class 1 entries\n",
        "num_class_1_entries_encoded = len(class_1_entries_encoded)\n",
        "\n",
        "# Calculate the number of class 0 entries needed for 10-90 distribution\n",
        "num_class_0_entries_needed_encoded = int(num_class_1_entries_encoded * 9.6 / 0.4)\n",
        "\n",
        "# Sample class 0 entries to achieve the desired distribution\n",
        "class_0_entries_sampled_encoded = class_0_entries_encoded.sample(n=num_class_0_entries_needed_encoded, random_state=42)\n",
        "\n",
        "# Concatenate class 1 entries and sampled class 0 entries\n",
        "df_balanced_encoded = pd.concat([class_1_entries_encoded, class_0_entries_sampled_encoded])\n",
        "\n",
        "# Shuffle the balanced dataset\n",
        "df_balanced_encoded = df_balanced_encoded.sample(frac=1, random_state=42).reset_index(drop=True)\n",
        "\n",
        "# Separate X_encoded1 and y1\n",
        "X_encoded1 = df_balanced_encoded.drop(columns=['Class']).values\n",
        "y1 = df_balanced_encoded['Class'].values\n",
        "\n",
        "# Display the class distribution of the balanced dataset\n",
        "print(\"Class distribution after balancing:\")\n",
        "print(df_balanced_encoded['Class'].value_counts())"
      ]
    },
    {
      "cell_type": "code",
      "execution_count": null,
      "id": "3dec766e",
      "metadata": {
        "id": "3dec766e",
        "outputId": "c34ed440-cb67-476f-c533-520a5fc38877"
      },
      "outputs": [
        {
          "name": "stdout",
          "output_type": "stream",
          "text": [
            "Classification Report:\n"
          ]
        },
        {
          "ename": "ValueError",
          "evalue": "Found input variables with inconsistent numbers of samples: [2460, 56962]",
          "output_type": "error",
          "traceback": [
            "\u001b[1;31m---------------------------------------------------------------------------\u001b[0m",
            "\u001b[1;31mValueError\u001b[0m                                Traceback (most recent call last)",
            "Cell \u001b[1;32mIn[15], line 13\u001b[0m\n\u001b[0;32m     10\u001b[0m \u001b[38;5;66;03m# Make predictions on the test set\u001b[39;00m\n\u001b[0;32m     11\u001b[0m \u001b[38;5;66;03m# Evaluate the classifier\u001b[39;00m\n\u001b[0;32m     12\u001b[0m \u001b[38;5;28mprint\u001b[39m(\u001b[38;5;124m\"\u001b[39m\u001b[38;5;124mClassification Report:\u001b[39m\u001b[38;5;124m\"\u001b[39m)\n\u001b[1;32m---> 13\u001b[0m \u001b[38;5;28mprint\u001b[39m(classification_report(y_test, predictions))\n\u001b[0;32m     14\u001b[0m \u001b[38;5;28mprint\u001b[39m(\u001b[38;5;124m\"\u001b[39m\u001b[38;5;124mAccuracy:\u001b[39m\u001b[38;5;124m\"\u001b[39m, accuracy_score(y_test, predictions))\n",
            "File \u001b[1;32m~\\anaconda3\\Lib\\site-packages\\sklearn\\utils\\_param_validation.py:211\u001b[0m, in \u001b[0;36mvalidate_params.<locals>.decorator.<locals>.wrapper\u001b[1;34m(*args, **kwargs)\u001b[0m\n\u001b[0;32m    205\u001b[0m \u001b[38;5;28;01mtry\u001b[39;00m:\n\u001b[0;32m    206\u001b[0m     \u001b[38;5;28;01mwith\u001b[39;00m config_context(\n\u001b[0;32m    207\u001b[0m         skip_parameter_validation\u001b[38;5;241m=\u001b[39m(\n\u001b[0;32m    208\u001b[0m             prefer_skip_nested_validation \u001b[38;5;129;01mor\u001b[39;00m global_skip_validation\n\u001b[0;32m    209\u001b[0m         )\n\u001b[0;32m    210\u001b[0m     ):\n\u001b[1;32m--> 211\u001b[0m         \u001b[38;5;28;01mreturn\u001b[39;00m func(\u001b[38;5;241m*\u001b[39margs, \u001b[38;5;241m*\u001b[39m\u001b[38;5;241m*\u001b[39mkwargs)\n\u001b[0;32m    212\u001b[0m \u001b[38;5;28;01mexcept\u001b[39;00m InvalidParameterError \u001b[38;5;28;01mas\u001b[39;00m e:\n\u001b[0;32m    213\u001b[0m     \u001b[38;5;66;03m# When the function is just a wrapper around an estimator, we allow\u001b[39;00m\n\u001b[0;32m    214\u001b[0m     \u001b[38;5;66;03m# the function to delegate validation to the estimator, but we replace\u001b[39;00m\n\u001b[0;32m    215\u001b[0m     \u001b[38;5;66;03m# the name of the estimator by the name of the function in the error\u001b[39;00m\n\u001b[0;32m    216\u001b[0m     \u001b[38;5;66;03m# message to avoid confusion.\u001b[39;00m\n\u001b[0;32m    217\u001b[0m     msg \u001b[38;5;241m=\u001b[39m re\u001b[38;5;241m.\u001b[39msub(\n\u001b[0;32m    218\u001b[0m         \u001b[38;5;124mr\u001b[39m\u001b[38;5;124m\"\u001b[39m\u001b[38;5;124mparameter of \u001b[39m\u001b[38;5;124m\\\u001b[39m\u001b[38;5;124mw+ must be\u001b[39m\u001b[38;5;124m\"\u001b[39m,\n\u001b[0;32m    219\u001b[0m         \u001b[38;5;124mf\u001b[39m\u001b[38;5;124m\"\u001b[39m\u001b[38;5;124mparameter of \u001b[39m\u001b[38;5;132;01m{\u001b[39;00mfunc\u001b[38;5;241m.\u001b[39m\u001b[38;5;18m__qualname__\u001b[39m\u001b[38;5;132;01m}\u001b[39;00m\u001b[38;5;124m must be\u001b[39m\u001b[38;5;124m\"\u001b[39m,\n\u001b[0;32m    220\u001b[0m         \u001b[38;5;28mstr\u001b[39m(e),\n\u001b[0;32m    221\u001b[0m     )\n",
            "File \u001b[1;32m~\\anaconda3\\Lib\\site-packages\\sklearn\\metrics\\_classification.py:2539\u001b[0m, in \u001b[0;36mclassification_report\u001b[1;34m(y_true, y_pred, labels, target_names, sample_weight, digits, output_dict, zero_division)\u001b[0m\n\u001b[0;32m   2405\u001b[0m \u001b[38;5;129m@validate_params\u001b[39m(\n\u001b[0;32m   2406\u001b[0m     {\n\u001b[0;32m   2407\u001b[0m         \u001b[38;5;124m\"\u001b[39m\u001b[38;5;124my_true\u001b[39m\u001b[38;5;124m\"\u001b[39m: [\u001b[38;5;124m\"\u001b[39m\u001b[38;5;124marray-like\u001b[39m\u001b[38;5;124m\"\u001b[39m, \u001b[38;5;124m\"\u001b[39m\u001b[38;5;124msparse matrix\u001b[39m\u001b[38;5;124m\"\u001b[39m],\n\u001b[1;32m   (...)\u001b[0m\n\u001b[0;32m   2430\u001b[0m     zero_division\u001b[38;5;241m=\u001b[39m\u001b[38;5;124m\"\u001b[39m\u001b[38;5;124mwarn\u001b[39m\u001b[38;5;124m\"\u001b[39m,\n\u001b[0;32m   2431\u001b[0m ):\n\u001b[0;32m   2432\u001b[0m \u001b[38;5;250m    \u001b[39m\u001b[38;5;124;03m\"\"\"Build a text report showing the main classification metrics.\u001b[39;00m\n\u001b[0;32m   2433\u001b[0m \n\u001b[0;32m   2434\u001b[0m \u001b[38;5;124;03m    Read more in the :ref:`User Guide <classification_report>`.\u001b[39;00m\n\u001b[1;32m   (...)\u001b[0m\n\u001b[0;32m   2536\u001b[0m \u001b[38;5;124;03m    <BLANKLINE>\u001b[39;00m\n\u001b[0;32m   2537\u001b[0m \u001b[38;5;124;03m    \"\"\"\u001b[39;00m\n\u001b[1;32m-> 2539\u001b[0m     y_type, y_true, y_pred \u001b[38;5;241m=\u001b[39m _check_targets(y_true, y_pred)\n\u001b[0;32m   2541\u001b[0m     \u001b[38;5;28;01mif\u001b[39;00m labels \u001b[38;5;129;01mis\u001b[39;00m \u001b[38;5;28;01mNone\u001b[39;00m:\n\u001b[0;32m   2542\u001b[0m         labels \u001b[38;5;241m=\u001b[39m unique_labels(y_true, y_pred)\n",
            "File \u001b[1;32m~\\anaconda3\\Lib\\site-packages\\sklearn\\metrics\\_classification.py:84\u001b[0m, in \u001b[0;36m_check_targets\u001b[1;34m(y_true, y_pred)\u001b[0m\n\u001b[0;32m     57\u001b[0m \u001b[38;5;28;01mdef\u001b[39;00m \u001b[38;5;21m_check_targets\u001b[39m(y_true, y_pred):\n\u001b[0;32m     58\u001b[0m \u001b[38;5;250m    \u001b[39m\u001b[38;5;124;03m\"\"\"Check that y_true and y_pred belong to the same classification task.\u001b[39;00m\n\u001b[0;32m     59\u001b[0m \n\u001b[0;32m     60\u001b[0m \u001b[38;5;124;03m    This converts multiclass or binary types to a common shape, and raises a\u001b[39;00m\n\u001b[1;32m   (...)\u001b[0m\n\u001b[0;32m     82\u001b[0m \u001b[38;5;124;03m    y_pred : array or indicator matrix\u001b[39;00m\n\u001b[0;32m     83\u001b[0m \u001b[38;5;124;03m    \"\"\"\u001b[39;00m\n\u001b[1;32m---> 84\u001b[0m     check_consistent_length(y_true, y_pred)\n\u001b[0;32m     85\u001b[0m     type_true \u001b[38;5;241m=\u001b[39m type_of_target(y_true, input_name\u001b[38;5;241m=\u001b[39m\u001b[38;5;124m\"\u001b[39m\u001b[38;5;124my_true\u001b[39m\u001b[38;5;124m\"\u001b[39m)\n\u001b[0;32m     86\u001b[0m     type_pred \u001b[38;5;241m=\u001b[39m type_of_target(y_pred, input_name\u001b[38;5;241m=\u001b[39m\u001b[38;5;124m\"\u001b[39m\u001b[38;5;124my_pred\u001b[39m\u001b[38;5;124m\"\u001b[39m)\n",
            "File \u001b[1;32m~\\anaconda3\\Lib\\site-packages\\sklearn\\utils\\validation.py:409\u001b[0m, in \u001b[0;36mcheck_consistent_length\u001b[1;34m(*arrays)\u001b[0m\n\u001b[0;32m    407\u001b[0m uniques \u001b[38;5;241m=\u001b[39m np\u001b[38;5;241m.\u001b[39munique(lengths)\n\u001b[0;32m    408\u001b[0m \u001b[38;5;28;01mif\u001b[39;00m \u001b[38;5;28mlen\u001b[39m(uniques) \u001b[38;5;241m>\u001b[39m \u001b[38;5;241m1\u001b[39m:\n\u001b[1;32m--> 409\u001b[0m     \u001b[38;5;28;01mraise\u001b[39;00m \u001b[38;5;167;01mValueError\u001b[39;00m(\n\u001b[0;32m    410\u001b[0m         \u001b[38;5;124m\"\u001b[39m\u001b[38;5;124mFound input variables with inconsistent numbers of samples: \u001b[39m\u001b[38;5;132;01m%r\u001b[39;00m\u001b[38;5;124m\"\u001b[39m\n\u001b[0;32m    411\u001b[0m         \u001b[38;5;241m%\u001b[39m [\u001b[38;5;28mint\u001b[39m(l) \u001b[38;5;28;01mfor\u001b[39;00m l \u001b[38;5;129;01min\u001b[39;00m lengths]\n\u001b[0;32m    412\u001b[0m     )\n",
            "\u001b[1;31mValueError\u001b[0m: Found input variables with inconsistent numbers of samples: [2460, 56962]"
          ]
        }
      ],
      "source": [
        "from sklearn.metrics import classification_report\n",
        "# Split the data into train and test sets\n",
        "X_train, X_test, y_train, y_test = train_test_split(X_encoded1, y1, test_size=0.2, random_state=42)\n",
        "\n",
        "\n",
        "# Train the classifier (Decision Tree)\n",
        "clf = DecisionTreeClassifier()\n",
        "clf.fit(X_train, y_train)"
      ]
    },
    {
      "cell_type": "code",
      "execution_count": null,
      "id": "4f8a52b4",
      "metadata": {
        "id": "4f8a52b4",
        "outputId": "e38145b2-9754-4eb6-b236-e0a2e518b205"
      },
      "outputs": [
        {
          "name": "stdout",
          "output_type": "stream",
          "text": [
            "Classification Report:\n",
            "              precision    recall  f1-score   support\n",
            "\n",
            "           0       0.99      0.97      0.98      2366\n",
            "           1       0.49      0.63      0.55        94\n",
            "\n",
            "    accuracy                           0.96      2460\n",
            "   macro avg       0.74      0.80      0.77      2460\n",
            "weighted avg       0.97      0.96      0.96      2460\n",
            "\n",
            "Accuracy: 0.9609756097560975\n"
          ]
        }
      ],
      "source": [
        "# Make predictions on the test set\n",
        "# Make predictions on the test set\n",
        "predictions1 = clf.predict(X_test)\n",
        "\n",
        "# Evaluate the classifier\n",
        "print(\"Classification Report:\")\n",
        "print(classification_report(y_test, predictions1))\n",
        "print(\"Accuracy:\", accuracy_score(y_test, predictions1))"
      ]
    },
    {
      "cell_type": "code",
      "execution_count": null,
      "id": "ec1be1cb",
      "metadata": {
        "id": "ec1be1cb",
        "outputId": "6b6f242a-2054-4d42-c418-feec75404dec"
      },
      "outputs": [
        {
          "name": "stdout",
          "output_type": "stream",
          "text": [
            "Class distribution after SMOTE:\n",
            "0    284315\n",
            "1    284315\n",
            "Name: Class, dtype: int64\n"
          ]
        }
      ],
      "source": [
        "from imblearn.over_sampling import SMOTE\n",
        "\n",
        "# Initialize SMOTE\n",
        "smote = SMOTE(random_state=42)\n",
        "\n",
        "# Reshape X_encoded to 2D array if needed\n",
        "if len(X_encoded.shape) > 1:\n",
        "    X_encoded_flat = X_encoded.reshape(X_encoded.shape[0], -1)\n",
        "else:\n",
        "    X_encoded_flat = X_encoded.reshape(-1, 1)\n",
        "\n",
        "# Apply SMOTE\n",
        "X_encoded2, y2 = smote.fit_resample(X_encoded_flat, y)\n",
        "\n",
        "# If the shape of X_encoded2 is different from the original, reshape it back\n",
        "if len(X_encoded.shape) > 1:\n",
        "    X_encoded2 = X_encoded2.reshape(-1, X_encoded.shape[1])\n",
        "\n",
        "# Display the class distribution after SMOTE\n",
        "print(\"Class distribution after SMOTE:\")\n",
        "print(pd.Series(y2).value_counts())"
      ]
    },
    {
      "cell_type": "code",
      "execution_count": null,
      "id": "f13d3c8f",
      "metadata": {
        "id": "f13d3c8f",
        "outputId": "12a38cf6-3dc6-43c5-c609-7cb51f4a0470"
      },
      "outputs": [
        {
          "name": "stdout",
          "output_type": "stream",
          "text": [
            "Classification Report:\n",
            "              precision    recall  f1-score   support\n",
            "\n",
            "           0       1.00      0.99      1.00     85149\n",
            "           1       0.99      1.00      1.00     85440\n",
            "\n",
            "    accuracy                           1.00    170589\n",
            "   macro avg       1.00      1.00      1.00    170589\n",
            "weighted avg       1.00      1.00      1.00    170589\n",
            "\n",
            "Accuracy: 0.9950700220999009\n"
          ]
        }
      ],
      "source": [
        "from sklearn.metrics import classification_report\n",
        "# Split the data into train and test sets\n",
        "X_train, X_test, y_train, y_test = train_test_split(X_encoded2, y2, test_size=0.3, random_state=42)\n",
        "\n",
        "\n",
        "\n",
        "# Train the classifier (Decision Tree)\n",
        "clf = DecisionTreeClassifier()\n",
        "clf.fit(X_train, y_train)\n",
        "\n",
        "# Make predictions on the test set\n",
        "predictions1 = clf.predict(X_test)\n",
        "\n",
        "# Evaluate the classifier\n",
        "print(\"Classification Report: Decision Tree\")\n",
        "print(classification_report(y_test, predictions1))\n",
        "print(\"Accuracy:\", accuracy_score(y_test, predictions1))"
      ]
    },
    {
      "cell_type": "code",
      "execution_count": null,
      "id": "e5967e1e",
      "metadata": {
        "id": "e5967e1e",
        "outputId": "b5bca93b-9ba9-41aa-cad5-77722cebda73"
      },
      "outputs": [
        {
          "data": {
            "image/png": "[encoded data removed]",
            "text/plain": [
              "<Figure size 1000x700 with 2 Axes>"
            ]
          },
          "metadata": {},
          "output_type": "display_data"
        }
      ],
      "source": [
        "# Confusion Matrix for Random Forest\n",
        "confusion_matrix_clf = confusion_matrix(y_test, predictions1)\n",
        "# Visualization\n",
        "plt.figure(figsize=(10,7))\n",
        "ax = plt.subplot()\n",
        "sns.heatmap(confusion_matrix_clf, annot=True, fmt='g', ax = ax)\n",
        "ax.set_xlabel('Predicted Values')\n",
        "ax.set_ylabel('Actual Values')\n",
        "ax.set_title('Confusion Matrix - Decision Tree Classifier')\n",
        "ax.xaxis.set_ticklabels(['Genuine','Fraud'])\n",
        "ax.yaxis.set_ticklabels(['Genuine','Fraud'])\n",
        "plt.show()"
      ]
    },
    {
      "cell_type": "code",
      "execution_count": null,
      "id": "c45591ab",
      "metadata": {
        "id": "c45591ab"
      },
      "outputs": [],
      "source": [
        "y_predictions_dt = predictions1"
      ]
    },
    {
      "cell_type": "code",
      "execution_count": null,
      "id": "acdb1f40",
      "metadata": {
        "id": "acdb1f40",
        "outputId": "6ed9c28b-c7f3-43ab-ce6c-e2455cec6e62"
      },
      "outputs": [
        {
          "data": {
            "text/html": [
              "<div>\n",
              "<style scoped>\n",
              "    .dataframe tbody tr th:only-of-type {\n",
              "        vertical-align: middle;\n",
              "    }\n",
              "\n",
              "    .dataframe tbody tr th {\n",
              "        vertical-align: top;\n",
              "    }\n",
              "\n",
              "    .dataframe thead th {\n",
              "        text-align: right;\n",
              "    }\n",
              "</style>\n",
              "<table border=\"1\" class=\"dataframe\">\n",
              "  <thead>\n",
              "    <tr style=\"text-align: right;\">\n",
              "      <th></th>\n",
              "      <th>Metrics</th>\n",
              "      <th>Results</th>\n",
              "    </tr>\n",
              "  </thead>\n",
              "  <tbody>\n",
              "    <tr>\n",
              "      <th>0</th>\n",
              "      <td>Accuracy</td>\n",
              "      <td>0.995070</td>\n",
              "    </tr>\n",
              "    <tr>\n",
              "      <th>1</th>\n",
              "      <td>Precision</td>\n",
              "      <td>0.991906</td>\n",
              "    </tr>\n",
              "    <tr>\n",
              "      <th>2</th>\n",
              "      <td>Recall</td>\n",
              "      <td>0.998303</td>\n",
              "    </tr>\n",
              "    <tr>\n",
              "      <th>3</th>\n",
              "      <td>F1_score</td>\n",
              "      <td>0.995094</td>\n",
              "    </tr>\n",
              "  </tbody>\n",
              "</table>\n",
              "</div>"
            ],
            "text/plain": [
              "     Metrics   Results\n",
              "0   Accuracy  0.995070\n",
              "1  Precision  0.991906\n",
              "2     Recall  0.998303\n",
              "3   F1_score  0.995094"
            ]
          },
          "execution_count": 15,
          "metadata": {},
          "output_type": "execute_result"
        }
      ],
      "source": [
        "# Printing Evaluation Metrics for Decision Tree\n",
        "metrics = [['Accuracy',(accuracy_score(y_test, y_predictions_dt))],\n",
        "                         ['Precision',precision_score(y_test, y_predictions_dt)],\n",
        "                         ['Recall', recall_score(y_test, y_predictions_dt)],\n",
        "                         ['F1_score',f1_score(y_test, y_predictions_dt)]]\n",
        "metrics_df = pd.DataFrame(metrics, columns = ['Metrics', 'Results'])\n",
        "metrics_df"
      ]
    },
    {
      "cell_type": "code",
      "execution_count": null,
      "id": "eb61f469",
      "metadata": {
        "id": "eb61f469"
      },
      "outputs": [],
      "source": [
        "np.save('y_predictions_dt.npy', y_predictions_dt)"
      ]
    },
    {
      "cell_type": "code",
      "execution_count": null,
      "id": "6d7ad9d3",
      "metadata": {
        "id": "6d7ad9d3",
        "outputId": "897a4f0d-2f3c-44ca-83f2-70ebd5e85dc9"
      },
      "outputs": [
        {
          "name": "stderr",
          "output_type": "stream",
          "text": [
            "C:\\Users\\student\\anaconda3\\Lib\\site-packages\\sklearn\\ensemble\\_weight_boosting.py:519: FutureWarning: The SAMME.R algorithm (the default) is deprecated and will be removed in 1.6. Use the SAMME algorithm to circumvent this warning.\n",
            "  warnings.warn(\n"
          ]
        },
        {
          "ename": "ModuleNotFoundError",
          "evalue": "No module named 'lightgbm'",
          "output_type": "error",
          "traceback": [
            "\u001b[1;31m---------------------------------------------------------------------------\u001b[0m",
            "\u001b[1;31mModuleNotFoundError\u001b[0m                       Traceback (most recent call last)",
            "Cell \u001b[1;32mIn[17], line 20\u001b[0m\n\u001b[0;32m     17\u001b[0m y_prediction_gb \u001b[38;5;241m=\u001b[39m gradient_boosting\u001b[38;5;241m.\u001b[39mpredict(X_test)\n\u001b[0;32m     19\u001b[0m \u001b[38;5;66;03m# Import the necessary libraries\u001b[39;00m\n\u001b[1;32m---> 20\u001b[0m \u001b[38;5;28;01mimport\u001b[39;00m \u001b[38;5;21;01mlightgbm\u001b[39;00m \u001b[38;5;28;01mas\u001b[39;00m \u001b[38;5;21;01mlgb\u001b[39;00m\n\u001b[0;32m     21\u001b[0m \u001b[38;5;28;01mimport\u001b[39;00m \u001b[38;5;21;01mxgboost\u001b[39;00m \u001b[38;5;28;01mas\u001b[39;00m \u001b[38;5;21;01mxgb\u001b[39;00m\n\u001b[0;32m     23\u001b[0m \u001b[38;5;66;03m# Applying LightGBM Classifier\u001b[39;00m\n",
            "\u001b[1;31mModuleNotFoundError\u001b[0m: No module named 'lightgbm'"
          ]
        }
      ],
      "source": [
        "# Applying Random Forest Classifier\n",
        "random_forest = RandomForestClassifier(n_estimators = 100, random_state = 123)\n",
        "random_forest.fit(X_train, y_train)\n",
        "\n",
        "\n",
        "y_predictions_rf = random_forest.predict(X_test)\n",
        "\n",
        "# Applying Ada Boost Classifier\n",
        "ada_boost = AdaBoostClassifier(n_estimators = 100, random_state = 123)\n",
        "ada_boost.fit(X_train, y_train)\n",
        "\n",
        "y_predictions_ab = ada_boost.predict(X_test)\n",
        "\n",
        "# Applying Gradient Boosting Classifier\n",
        "gradient_boosting = GradientBoostingClassifier(n_estimators = 100, random_state = 123)\n",
        "gradient_boosting.fit(X_train, y_train)\n",
        "\n",
        "y_prediction_gb = gradient_boosting.predict(X_test)"
      ]
    },
    {
      "cell_type": "code",
      "execution_count": null,
      "id": "3ea76a69",
      "metadata": {
        "id": "3ea76a69",
        "outputId": "b79d9ac4-3af7-4b85-d3c3-5c91d5ca1158"
      },
      "outputs": [
        {
          "data": {
            "image/png": "[encoded data removed]",
            "text/plain": [
              "<Figure size 1000x700 with 2 Axes>"
            ]
          },
          "metadata": {},
          "output_type": "display_data"
        }
      ],
      "source": [
        "# Confusion Matrix for Random Forest\n",
        "confusion_matrix_rf = confusion_matrix(y_test, y_predictions_rf)\n",
        "# Visualization\n",
        "plt.figure(figsize=(10,7))\n",
        "ax = plt.subplot()\n",
        "sns.heatmap(confusion_matrix_rf, annot=True, fmt='g', ax = ax)\n",
        "ax.set_xlabel('Predicted Values')\n",
        "ax.set_ylabel('Actual Values')\n",
        "ax.set_title('Confusion Matrix - Random Forest')\n",
        "ax.xaxis.set_ticklabels(['Genuine','Fraud'])\n",
        "ax.yaxis.set_ticklabels(['Genuine','Fraud'])\n",
        "plt.show()"
      ]
    },
    {
      "cell_type": "code",
      "execution_count": null,
      "id": "830c72a0",
      "metadata": {
        "id": "830c72a0",
        "outputId": "8ef005fb-e1c2-4572-b6fb-0e216e555312"
      },
      "outputs": [
        {
          "data": {
            "text/html": [
              "<div>\n",
              "<style scoped>\n",
              "    .dataframe tbody tr th:only-of-type {\n",
              "        vertical-align: middle;\n",
              "    }\n",
              "\n",
              "    .dataframe tbody tr th {\n",
              "        vertical-align: top;\n",
              "    }\n",
              "\n",
              "    .dataframe thead th {\n",
              "        text-align: right;\n",
              "    }\n",
              "</style>\n",
              "<table border=\"1\" class=\"dataframe\">\n",
              "  <thead>\n",
              "    <tr style=\"text-align: right;\">\n",
              "      <th></th>\n",
              "      <th>Metrics</th>\n",
              "      <th>Results</th>\n",
              "    </tr>\n",
              "  </thead>\n",
              "  <tbody>\n",
              "    <tr>\n",
              "      <th>0</th>\n",
              "      <td>Accuracy</td>\n",
              "      <td>0.999672</td>\n",
              "    </tr>\n",
              "    <tr>\n",
              "      <th>1</th>\n",
              "      <td>Precision</td>\n",
              "      <td>0.999345</td>\n",
              "    </tr>\n",
              "    <tr>\n",
              "      <th>2</th>\n",
              "      <td>Recall</td>\n",
              "      <td>1.000000</td>\n",
              "    </tr>\n",
              "    <tr>\n",
              "      <th>3</th>\n",
              "      <td>F1_score</td>\n",
              "      <td>0.999672</td>\n",
              "    </tr>\n",
              "  </tbody>\n",
              "</table>\n",
              "</div>"
            ],
            "text/plain": [
              "     Metrics   Results\n",
              "0   Accuracy  0.999672\n",
              "1  Precision  0.999345\n",
              "2     Recall  1.000000\n",
              "3   F1_score  0.999672"
            ]
          },
          "execution_count": 19,
          "metadata": {},
          "output_type": "execute_result"
        }
      ],
      "source": [
        "# Printing Evaluation Metrics for Random Forest\n",
        "metrics = [['Accuracy',(accuracy_score(y_test, y_predictions_rf))],\n",
        "                         ['Precision',precision_score(y_test, y_predictions_rf)],\n",
        "                         ['Recall', recall_score(y_test, y_predictions_rf)],\n",
        "                         ['F1_score',f1_score(y_test, y_predictions_rf)]]\n",
        "metrics_df = pd.DataFrame(metrics, columns = ['Metrics', 'Results'])\n",
        "metrics_df"
      ]
    },
    {
      "cell_type": "code",
      "execution_count": null,
      "id": "1cfe1ef3",
      "metadata": {
        "id": "1cfe1ef3"
      },
      "outputs": [],
      "source": [
        "np.save('y_predictions_rf.npy', y_predictions_rf)"
      ]
    },
    {
      "cell_type": "code",
      "execution_count": null,
      "id": "1099224d",
      "metadata": {
        "id": "1099224d",
        "outputId": "44beac7c-80fd-48ca-90da-45f3ad1572b2"
      },
      "outputs": [
        {
          "data": {
            "image/png": "[encoded data removed]",
            "text/plain": [
              "<Figure size 1000x700 with 2 Axes>"
            ]
          },
          "metadata": {},
          "output_type": "display_data"
        }
      ],
      "source": [
        "# Confusion Matrix for ADA Boosting Classsifier\n",
        "confusion_matrix_ab = confusion_matrix(y_test, y_predictions_ab)\n",
        "# Visualization\n",
        "plt.figure(figsize=(10,7))\n",
        "ax = plt.subplot()\n",
        "sns.heatmap(confusion_matrix_ab, annot=True, fmt='g', ax = ax)\n",
        "ax.set_xlabel('Predicted Values')\n",
        "ax.set_ylabel('Actual Values')\n",
        "ax.set_title('Confusion Matrix - Random Forest')\n",
        "ax.xaxis.set_ticklabels(['Genuine','Fraud'])\n",
        "ax.yaxis.set_ticklabels(['Genuine','Fraud'])\n",
        "plt.show()"
      ]
    },
    {
      "cell_type": "code",
      "execution_count": null,
      "id": "eb5f2b52",
      "metadata": {
        "id": "eb5f2b52",
        "outputId": "9b69df56-2670-4655-825b-7aec3051a1d8"
      },
      "outputs": [
        {
          "data": {
            "text/html": [
              "<div>\n",
              "<style scoped>\n",
              "    .dataframe tbody tr th:only-of-type {\n",
              "        vertical-align: middle;\n",
              "    }\n",
              "\n",
              "    .dataframe tbody tr th {\n",
              "        vertical-align: top;\n",
              "    }\n",
              "\n",
              "    .dataframe thead th {\n",
              "        text-align: right;\n",
              "    }\n",
              "</style>\n",
              "<table border=\"1\" class=\"dataframe\">\n",
              "  <thead>\n",
              "    <tr style=\"text-align: right;\">\n",
              "      <th></th>\n",
              "      <th>Metrics</th>\n",
              "      <th>Results</th>\n",
              "    </tr>\n",
              "  </thead>\n",
              "  <tbody>\n",
              "    <tr>\n",
              "      <th>0</th>\n",
              "      <td>Accuracy</td>\n",
              "      <td>0.967219</td>\n",
              "    </tr>\n",
              "    <tr>\n",
              "      <th>1</th>\n",
              "      <td>Precision</td>\n",
              "      <td>0.968009</td>\n",
              "    </tr>\n",
              "    <tr>\n",
              "      <th>2</th>\n",
              "      <td>Recall</td>\n",
              "      <td>0.966491</td>\n",
              "    </tr>\n",
              "    <tr>\n",
              "      <th>3</th>\n",
              "      <td>F1_score</td>\n",
              "      <td>0.967250</td>\n",
              "    </tr>\n",
              "  </tbody>\n",
              "</table>\n",
              "</div>"
            ],
            "text/plain": [
              "     Metrics   Results\n",
              "0   Accuracy  0.967219\n",
              "1  Precision  0.968009\n",
              "2     Recall  0.966491\n",
              "3   F1_score  0.967250"
            ]
          },
          "execution_count": 22,
          "metadata": {},
          "output_type": "execute_result"
        }
      ],
      "source": [
        "# Printing Evaluation Metrics for ADA Boosting Classsifier\n",
        "metrics = [['Accuracy',(accuracy_score(y_test, y_predictions_ab))],\n",
        "                         ['Precision',precision_score(y_test, y_predictions_ab)],\n",
        "                         ['Recall', recall_score(y_test, y_predictions_ab)],\n",
        "                         ['F1_score',f1_score(y_test, y_predictions_ab)]]\n",
        "metrics_df = pd.DataFrame(metrics, columns = ['Metrics', 'Results'])\n",
        "metrics_df"
      ]
    },
    {
      "cell_type": "code",
      "execution_count": null,
      "id": "639b93da",
      "metadata": {
        "id": "639b93da"
      },
      "outputs": [],
      "source": [
        "np.save('y_predictions_ab.npy',y_predictions_ab)"
      ]
    },
    {
      "cell_type": "code",
      "execution_count": null,
      "id": "a9404e34",
      "metadata": {
        "id": "a9404e34",
        "outputId": "755ab555-f840-49e5-eb47-556996c0bcfe"
      },
      "outputs": [
        {
          "data": {
            "image/png": "[encoded data removed]",
            "text/plain": [
              "<Figure size 1000x700 with 2 Axes>"
            ]
          },
          "metadata": {},
          "output_type": "display_data"
        }
      ],
      "source": [
        "# Confusion Matrix for Gradient Boosting Classsifier\n",
        "confusion_matrix_gb = confusion_matrix(y_test, y_prediction_gb)\n",
        "# Visualization\n",
        "plt.figure(figsize=(10,7))\n",
        "ax = plt.subplot()\n",
        "sns.heatmap(confusion_matrix_gb, annot=True, fmt='g', ax = ax)\n",
        "ax.set_xlabel('Predicted Values')\n",
        "ax.set_ylabel('Actual Values')\n",
        "ax.set_title('Confusion Matrix - Gradient Boosting Classifier')\n",
        "ax.xaxis.set_ticklabels(['Genuine','Fraud'])\n",
        "ax.yaxis.set_ticklabels(['Genuine','Fraud'])\n",
        "plt.show()"
      ]
    },
    {
      "cell_type": "code",
      "execution_count": null,
      "id": "d9f4c906",
      "metadata": {
        "id": "d9f4c906",
        "outputId": "afacd1f1-99dc-4b47-fdd3-7b4cb2f75518"
      },
      "outputs": [
        {
          "data": {
            "text/html": [
              "<div>\n",
              "<style scoped>\n",
              "    .dataframe tbody tr th:only-of-type {\n",
              "        vertical-align: middle;\n",
              "    }\n",
              "\n",
              "    .dataframe tbody tr th {\n",
              "        vertical-align: top;\n",
              "    }\n",
              "\n",
              "    .dataframe thead th {\n",
              "        text-align: right;\n",
              "    }\n",
              "</style>\n",
              "<table border=\"1\" class=\"dataframe\">\n",
              "  <thead>\n",
              "    <tr style=\"text-align: right;\">\n",
              "      <th></th>\n",
              "      <th>Metrics</th>\n",
              "      <th>Results</th>\n",
              "    </tr>\n",
              "  </thead>\n",
              "  <tbody>\n",
              "    <tr>\n",
              "      <th>0</th>\n",
              "      <td>Accuracy</td>\n",
              "      <td>0.973398</td>\n",
              "    </tr>\n",
              "    <tr>\n",
              "      <th>1</th>\n",
              "      <td>Precision</td>\n",
              "      <td>0.971996</td>\n",
              "    </tr>\n",
              "    <tr>\n",
              "      <th>2</th>\n",
              "      <td>Recall</td>\n",
              "      <td>0.974977</td>\n",
              "    </tr>\n",
              "    <tr>\n",
              "      <th>3</th>\n",
              "      <td>F1_score</td>\n",
              "      <td>0.973484</td>\n",
              "    </tr>\n",
              "  </tbody>\n",
              "</table>\n",
              "</div>"
            ],
            "text/plain": [
              "     Metrics   Results\n",
              "0   Accuracy  0.973398\n",
              "1  Precision  0.971996\n",
              "2     Recall  0.974977\n",
              "3   F1_score  0.973484"
            ]
          },
          "execution_count": 26,
          "metadata": {},
          "output_type": "execute_result"
        }
      ],
      "source": [
        "# Printing Evaluation Metrics for Gradient Boosting Classsifier\n",
        "metrics = [['Accuracy',(accuracy_score(y_test, y_prediction_gb))],\n",
        "                         ['Precision',precision_score(y_test, y_prediction_gb)],\n",
        "                         ['Recall', recall_score(y_test, y_prediction_gb)],\n",
        "                         ['F1_score',f1_score(y_test, y_prediction_gb)]]\n",
        "metrics_df = pd.DataFrame(metrics, columns = ['Metrics', 'Results'])\n",
        "metrics_df"
      ]
    },
    {
      "cell_type": "code",
      "execution_count": null,
      "id": "105d709c",
      "metadata": {
        "id": "105d709c"
      },
      "outputs": [],
      "source": [
        "np.save('y_prediction_gb.npy',y_prediction_gb)"
      ]
    },
    {
      "cell_type": "code",
      "execution_count": null,
      "id": "abd67b39",
      "metadata": {
        "id": "abd67b39",
        "outputId": "39c5d3cc-773d-4a03-ecbe-c071eabd8169"
      },
      "outputs": [
        {
          "name": "stdout",
          "output_type": "stream",
          "text": [
            "[LightGBM] [Info] Number of positive: 198875, number of negative: 199166\n",
            "[LightGBM] [Info] Auto-choosing col-wise multi-threading, the overhead of testing was 1.239038 seconds.\n",
            "You can set `force_col_wise=true` to remove the overhead.\n",
            "[LightGBM] [Info] Total Bins 195840\n",
            "[LightGBM] [Info] Number of data points in the train set: 398041, number of used features: 768\n",
            "[LightGBM] [Info] [binary:BoostFromScore]: pavg=0.499634 -> initscore=-0.001462\n",
            "[LightGBM] [Info] Start training from score -0.001462\n"
          ]
        }
      ],
      "source": [
        "# Import the necessary libraries\n",
        "import lightgbm as lgb\n",
        "import xgboost as xgb\n",
        "\n",
        "# Applying LightGBM Classifier\n",
        "lightgbm_classifier = lgb.LGBMClassifier(n_estimators=100, random_state=123)\n",
        "lightgbm_classifier.fit(X_train, y_train)\n",
        "\n",
        "y_predictions_lgbm = lightgbm_classifier.predict(X_test)\n",
        "\n",
        "# Applying XGBoost Classifier\n",
        "xgboost_classifier = xgb.XGBClassifier(n_estimators=100, random_state=123)\n",
        "xgboost_classifier.fit(X_train, y_train)\n",
        "\n",
        "y_predictions_xgb = xgboost_classifier.predict(X_test)"
      ]
    },
    {
      "cell_type": "code",
      "execution_count": null,
      "id": "92edaf19",
      "metadata": {
        "id": "92edaf19",
        "outputId": "947a30ec-b3d8-4125-abd6-cd34b51dc154"
      },
      "outputs": [
        {
          "data": {
            "image/png": "[encoded data removed]",
            "text/plain": [
              "<Figure size 1000x700 with 2 Axes>"
            ]
          },
          "metadata": {},
          "output_type": "display_data"
        }
      ],
      "source": [
        "# Confusion Matrix for lgbm\n",
        "confusion_matrix_lgbm = confusion_matrix(y_test, y_predictions_lgbm)\n",
        "# Visualization\n",
        "plt.figure(figsize=(10,7))\n",
        "ax = plt.subplot()\n",
        "sns.heatmap(confusion_matrix_lgbm, annot=True, fmt='g', ax = ax)\n",
        "ax.set_xlabel('Predicted Values')\n",
        "ax.set_ylabel('Actual Values')\n",
        "ax.set_title('Confusion Matrix - Light GBM')\n",
        "ax.xaxis.set_ticklabels(['Genuine','Fraud'])\n",
        "ax.yaxis.set_ticklabels(['Genuine','Fraud'])\n",
        "plt.show()"
      ]
    },
    {
      "cell_type": "code",
      "execution_count": null,
      "id": "b094b3ac",
      "metadata": {
        "id": "b094b3ac",
        "outputId": "415b8ade-fa14-4070-cefb-65e8a2ae2777"
      },
      "outputs": [
        {
          "data": {
            "text/html": [
              "<div>\n",
              "<style scoped>\n",
              "    .dataframe tbody tr th:only-of-type {\n",
              "        vertical-align: middle;\n",
              "    }\n",
              "\n",
              "    .dataframe tbody tr th {\n",
              "        vertical-align: top;\n",
              "    }\n",
              "\n",
              "    .dataframe thead th {\n",
              "        text-align: right;\n",
              "    }\n",
              "</style>\n",
              "<table border=\"1\" class=\"dataframe\">\n",
              "  <thead>\n",
              "    <tr style=\"text-align: right;\">\n",
              "      <th></th>\n",
              "      <th>Metrics</th>\n",
              "      <th>Results</th>\n",
              "    </tr>\n",
              "  </thead>\n",
              "  <tbody>\n",
              "    <tr>\n",
              "      <th>0</th>\n",
              "      <td>Accuracy</td>\n",
              "      <td>0.996870</td>\n",
              "    </tr>\n",
              "    <tr>\n",
              "      <th>1</th>\n",
              "      <td>Precision</td>\n",
              "      <td>0.993789</td>\n",
              "    </tr>\n",
              "    <tr>\n",
              "      <th>2</th>\n",
              "      <td>Recall</td>\n",
              "      <td>1.000000</td>\n",
              "    </tr>\n",
              "    <tr>\n",
              "      <th>3</th>\n",
              "      <td>F1_score</td>\n",
              "      <td>0.996885</td>\n",
              "    </tr>\n",
              "  </tbody>\n",
              "</table>\n",
              "</div>"
            ],
            "text/plain": [
              "     Metrics   Results\n",
              "0   Accuracy  0.996870\n",
              "1  Precision  0.993789\n",
              "2     Recall  1.000000\n",
              "3   F1_score  0.996885"
            ]
          },
          "execution_count": 35,
          "metadata": {},
          "output_type": "execute_result"
        }
      ],
      "source": [
        "# Printing Evaluation Metrics for lgbm\n",
        "metrics = [['Accuracy',(accuracy_score(y_test, y_predictions_lgbm))],\n",
        "                         ['Precision',precision_score(y_test, y_predictions_lgbm)],\n",
        "                         ['Recall', recall_score(y_test, y_predictions_lgbm)],\n",
        "                         ['F1_score',f1_score(y_test, y_predictions_lgbm)]]\n",
        "metrics_df = pd.DataFrame(metrics, columns = ['Metrics', 'Results'])\n",
        "metrics_df"
      ]
    },
    {
      "cell_type": "code",
      "execution_count": null,
      "id": "8a456aad",
      "metadata": {
        "id": "8a456aad"
      },
      "outputs": [],
      "source": [
        "np.save('y_predictions_lgbm.npy',y_predictions_lgbm)"
      ]
    },
    {
      "cell_type": "code",
      "execution_count": null,
      "id": "700de5cf",
      "metadata": {
        "id": "700de5cf",
        "outputId": "d63eabc4-4bff-4eaf-dba6-254b5c6a1014"
      },
      "outputs": [
        {
          "data": {
            "image/png": "[encoded data removed]",
            "text/plain": [
              "<Figure size 1000x700 with 2 Axes>"
            ]
          },
          "metadata": {},
          "output_type": "display_data"
        }
      ],
      "source": [
        "# Confusion Matrix for xgb\n",
        "confusion_matrix_xgb = confusion_matrix(y_test, y_predictions_xgb)\n",
        "# Visualization\n",
        "plt.figure(figsize=(10,7))\n",
        "ax = plt.subplot()\n",
        "sns.heatmap(confusion_matrix_xgb, annot=True, fmt='g', ax = ax)\n",
        "ax.set_xlabel('Predicted Values')\n",
        "ax.set_ylabel('Actual Values')\n",
        "ax.set_title('Confusion Matrix - XGB Boost Classifier')\n",
        "ax.xaxis.set_ticklabels(['Genuine','Fraud'])\n",
        "ax.yaxis.set_ticklabels(['Genuine','Fraud'])\n",
        "plt.show()"
      ]
    },
    {
      "cell_type": "code",
      "execution_count": null,
      "id": "c2955005",
      "metadata": {
        "id": "c2955005",
        "outputId": "eae522a9-e6ab-43d0-f511-a0930e356e36"
      },
      "outputs": [
        {
          "data": {
            "text/html": [
              "<div>\n",
              "<style scoped>\n",
              "    .dataframe tbody tr th:only-of-type {\n",
              "        vertical-align: middle;\n",
              "    }\n",
              "\n",
              "    .dataframe tbody tr th {\n",
              "        vertical-align: top;\n",
              "    }\n",
              "\n",
              "    .dataframe thead th {\n",
              "        text-align: right;\n",
              "    }\n",
              "</style>\n",
              "<table border=\"1\" class=\"dataframe\">\n",
              "  <thead>\n",
              "    <tr style=\"text-align: right;\">\n",
              "      <th></th>\n",
              "      <th>Metrics</th>\n",
              "      <th>Results</th>\n",
              "    </tr>\n",
              "  </thead>\n",
              "  <tbody>\n",
              "    <tr>\n",
              "      <th>0</th>\n",
              "      <td>Accuracy</td>\n",
              "      <td>0.999256</td>\n",
              "    </tr>\n",
              "    <tr>\n",
              "      <th>1</th>\n",
              "      <td>Precision</td>\n",
              "      <td>0.998516</td>\n",
              "    </tr>\n",
              "    <tr>\n",
              "      <th>2</th>\n",
              "      <td>Recall</td>\n",
              "      <td>1.000000</td>\n",
              "    </tr>\n",
              "    <tr>\n",
              "      <th>3</th>\n",
              "      <td>F1_score</td>\n",
              "      <td>0.999257</td>\n",
              "    </tr>\n",
              "  </tbody>\n",
              "</table>\n",
              "</div>"
            ],
            "text/plain": [
              "     Metrics   Results\n",
              "0   Accuracy  0.999256\n",
              "1  Precision  0.998516\n",
              "2     Recall  1.000000\n",
              "3   F1_score  0.999257"
            ]
          },
          "execution_count": 38,
          "metadata": {},
          "output_type": "execute_result"
        }
      ],
      "source": [
        "# Printing Evaluation Metrics for xgb\n",
        "metrics = [['Accuracy',(accuracy_score(y_test, y_predictions_xgb))],\n",
        "                         ['Precision',precision_score(y_test, y_predictions_xgb)],\n",
        "                         ['Recall', recall_score(y_test, y_predictions_xgb)],\n",
        "                         ['F1_score',f1_score(y_test, y_predictions_xgb)]]\n",
        "metrics_df = pd.DataFrame(metrics, columns = ['Metrics', 'Results'])\n",
        "metrics_df"
      ]
    },
    {
      "cell_type": "code",
      "execution_count": null,
      "id": "ecd5a266",
      "metadata": {
        "id": "ecd5a266"
      },
      "outputs": [],
      "source": [
        "np.save('y_predictions_xgb.npy',y_predictions_xgb)"
      ]
    },
    {
      "cell_type": "code",
      "execution_count": null,
      "id": "1970fe4a",
      "metadata": {
        "id": "1970fe4a",
        "outputId": "ecf03558-c926-4c48-bc8f-30e26f7d0d29"
      },
      "outputs": [
        {
          "name": "stdout",
          "output_type": "stream",
          "text": [
            "                   Accuracy  Precision    Recall  F1 Score\n",
            "Decision Tree      0.995070   0.991906  0.998303  0.995094\n",
            "Random Forest      0.999672   0.999345  1.000000  0.999672\n",
            "Ada Boost          0.967219   0.968009  0.966491  0.967250\n",
            "Gradient Boosting  0.973398   0.971996  0.974977  0.973484\n",
            "LightGBM           0.996870   0.993789  1.000000  0.996885\n",
            "XGBoost            0.999256   0.998516  1.000000  0.999257\n"
          ]
        }
      ],
      "source": [
        "from sklearn.metrics import accuracy_score, precision_score, recall_score, f1_score, classification_report\n",
        "\n",
        "# Create a dictionary to store classifier names and predictions\n",
        "classifiers = {\n",
        "    'Decision Tree': y_predictions_dt,\n",
        "    'Random Forest': y_predictions_rf,\n",
        "    'Ada Boost': y_predictions_ab,\n",
        "    'Gradient Boosting': y_prediction_gb,\n",
        "    'LightGBM': y_predictions_lgbm,\n",
        "    'XGBoost': y_predictions_xgb\n",
        "}\n",
        "\n",
        "# Create an empty dictionary to store evaluation metrics\n",
        "evaluation_metrics = {}\n",
        "\n",
        "# Loop through classifiers and calculate evaluation metrics\n",
        "for clf_name, y_pred in classifiers.items():\n",
        "    accuracy = accuracy_score(y_test, y_pred)\n",
        "    precision = precision_score(y_test, y_pred)\n",
        "    recall = recall_score(y_test, y_pred)\n",
        "    f1 = f1_score(y_test, y_pred)\n",
        "\n",
        "    # Store evaluation metrics in the dictionary\n",
        "    evaluation_metrics[clf_name] = {'Accuracy': accuracy, 'Precision': precision, 'Recall': recall, 'F1 Score': f1}\n",
        "\n",
        "# Create a DataFrame from the dictionary of evaluation metrics\n",
        "metrics_df = pd.DataFrame.from_dict(evaluation_metrics, orient='index')\n",
        "\n",
        "# Display the DataFrame\n",
        "print(metrics_df)"
      ]
    },
    {
      "cell_type": "code",
      "execution_count": null,
      "id": "b01eae8c",
      "metadata": {
        "id": "b01eae8c",
        "outputId": "24ee0bb7-e8b4-4762-f77b-8f8e529d619d"
      },
      "outputs": [
        {
          "data": {
            "text/plain": [
              "array([[-0.16287857, -0.00655118,  0.55596125, ..., -0.3584991 ,\n",
              "        -0.02523544,  0.23013349],\n",
              "       [-0.1180625 , -0.05906546,  0.555981  , ..., -0.3425396 ,\n",
              "        -0.06443287,  0.27508268],\n",
              "       [-0.21190308,  0.00098572,  0.57984304, ..., -0.33328876,\n",
              "        -0.03716788,  0.24302207],\n",
              "       ...,\n",
              "       [-0.09440421,  0.04634952,  0.5562191 , ..., -0.3403988 ,\n",
              "        -0.01452629,  0.24314877],\n",
              "       [-0.20697555, -0.06576725,  0.50770676, ..., -0.36492676,\n",
              "        -0.10662687,  0.26905864],\n",
              "       [-0.20190188, -0.00147248,  0.53875786, ..., -0.36668125,\n",
              "        -0.02723132,  0.13142009]], dtype=float32)"
            ]
          },
          "execution_count": 41,
          "metadata": {},
          "output_type": "execute_result"
        }
      ],
      "source": [
        "X_encoded"
      ]
    },
    {
      "cell_type": "code",
      "execution_count": null,
      "id": "0de2a47e",
      "metadata": {
        "id": "0de2a47e",
        "outputId": "4ab97e9e-0eb4-4b48-910a-3ff362152931",
        "colab": {
          "referenced_widgets": [
            "12bd00930fa443988258201d28169e48",
            "e6171834c9254fa0b64f17b9a3028749",
            "cdb565b16af14773b2abc475f434bb8f",
            "44de3568b773493a8938f7b4117e128d",
            "9e4615d8dbf8429e998eba9fd0613037",
            "10cd144dcbcf483b91425b9a6b3d8fd2"
          ]
        }
      },
      "outputs": [
        {
          "data": {
            "application/vnd.jupyter.widget-view+json": {
              "model_id": "12bd00930fa443988258201d28169e48",
              "version_major": 2,
              "version_minor": 0
            },
            "text/plain": [
              "tokenizer_config.json:   0%|          | 0.00/26.0 [00:00<?, ?B/s]"
            ]
          },
          "metadata": {},
          "output_type": "display_data"
        },
        {
          "name": "stderr",
          "output_type": "stream",
          "text": [
            "C:\\Users\\student\\anaconda3\\Lib\\site-packages\\huggingface_hub-0.21.4-py3.8.egg\\huggingface_hub\\file_download.py:149: UserWarning: `huggingface_hub` cache-system uses symlinks by default to efficiently store duplicated files but your machine does not support them in C:\\Users\\student\\.cache\\huggingface\\hub\\models--gpt2. Caching files will still work but in a degraded version that might require more space on your disk. This warning can be disabled by setting the `HF_HUB_DISABLE_SYMLINKS_WARNING` environment variable. For more details, see https://huggingface.co/docs/huggingface_hub/how-to-cache#limitations.\n",
            "To support symlinks on Windows, you either need to activate Developer Mode or to run Python as an administrator. In order to see activate developer mode, see this article: https://docs.microsoft.com/en-us/windows/apps/get-started/enable-your-device-for-development\n"
          ]
        },
        {
          "data": {
            "application/vnd.jupyter.widget-view+json": {
              "model_id": "e6171834c9254fa0b64f17b9a3028749",
              "version_major": 2,
              "version_minor": 0
            },
            "text/plain": [
              "vocab.json:   0%|          | 0.00/1.04M [00:00<?, ?B/s]"
            ]
          },
          "metadata": {},
          "output_type": "display_data"
        },
        {
          "data": {
            "application/vnd.jupyter.widget-view+json": {
              "model_id": "cdb565b16af14773b2abc475f434bb8f",
              "version_major": 2,
              "version_minor": 0
            },
            "text/plain": [
              "merges.txt:   0%|          | 0.00/456k [00:00<?, ?B/s]"
            ]
          },
          "metadata": {},
          "output_type": "display_data"
        },
        {
          "data": {
            "application/vnd.jupyter.widget-view+json": {
              "model_id": "44de3568b773493a8938f7b4117e128d",
              "version_major": 2,
              "version_minor": 0
            },
            "text/plain": [
              "tokenizer.json:   0%|          | 0.00/1.36M [00:00<?, ?B/s]"
            ]
          },
          "metadata": {},
          "output_type": "display_data"
        },
        {
          "data": {
            "application/vnd.jupyter.widget-view+json": {
              "model_id": "9e4615d8dbf8429e998eba9fd0613037",
              "version_major": 2,
              "version_minor": 0
            },
            "text/plain": [
              "config.json:   0%|          | 0.00/665 [00:00<?, ?B/s]"
            ]
          },
          "metadata": {},
          "output_type": "display_data"
        },
        {
          "data": {
            "application/vnd.jupyter.widget-view+json": {
              "model_id": "10cd144dcbcf483b91425b9a6b3d8fd2",
              "version_major": 2,
              "version_minor": 0
            },
            "text/plain": [
              "model.safetensors:   0%|          | 0.00/548M [00:00<?, ?B/s]"
            ]
          },
          "metadata": {},
          "output_type": "display_data"
        }
      ],
      "source": [
        "# Tokenization\n",
        "from transformers import GPT2Tokenizer, GPT2Model\n",
        "concatenated_features = X.apply(lambda row: ' '.join(map(str, row)), axis=1)\n",
        "tokenizer = GPT2Tokenizer.from_pretrained('gpt2')\n",
        "tokenized_texts3 = concatenated_features.apply(lambda x: tokenizer.encode(x, add_special_tokens=True))\n",
        "\n",
        "import torch\n",
        "from transformers import GPT2Tokenizer, GPT2Model\n",
        "\n",
        "# GPT-2 Encoding\n",
        "model = GPT2Model.from_pretrained('gpt2')\n",
        "encoded_features = []\n",
        "for tokens in tokenized_texts3:\n",
        "    with torch.no_grad():\n",
        "        outputs = model(torch.tensor(tokens).unsqueeze(0))\n",
        "    last_hidden_states = outputs.last_hidden_state\n",
        "    encoded_features.append(last_hidden_states.mean(dim=1).squeeze().numpy())\n",
        "\n",
        "X_encoded2 = np.vstack(encoded_features)"
      ]
    },
    {
      "cell_type": "code",
      "execution_count": null,
      "id": "644cd9c6",
      "metadata": {
        "id": "644cd9c6"
      },
      "outputs": [],
      "source": [
        "np.save('X_encoded2.npy',X_encoded2)"
      ]
    },
    {
      "cell_type": "code",
      "execution_count": null,
      "id": "b4566e96",
      "metadata": {
        "id": "b4566e96",
        "outputId": "04c04401-46d4-445d-cc61-026bdd23dd4b"
      },
      "outputs": [
        {
          "name": "stdout",
          "output_type": "stream",
          "text": [
            "Classification Report:\n",
            "              precision    recall  f1-score   support\n",
            "\n",
            "           0       1.00      1.00      1.00     56864\n",
            "           1       0.18      0.22      0.20        98\n",
            "\n",
            "    accuracy                           1.00     56962\n",
            "   macro avg       0.59      0.61      0.60     56962\n",
            "weighted avg       1.00      1.00      1.00     56962\n",
            "\n",
            "Accuracy: 0.9969277764123451\n"
          ]
        }
      ],
      "source": [
        "# Split the data into train and test sets\n",
        "from sklearn.metrics import classification_report\n",
        "X_train2, X_test2, y_train2, y_test2 = train_test_split(X_encoded2, y, test_size=0.2, random_state=42)\n",
        "\n",
        "# Train the classifier (Decision Tree)\n",
        "clf = DecisionTreeClassifier()\n",
        "clf.fit(X_train2, y_train2)\n",
        "\n",
        "# Make predictions on the test set\n",
        "predictions2 = clf.predict(X_test2)\n",
        "\n",
        "# Evaluate the classifier\n",
        "print(\"Classification Report:\")\n",
        "print(classification_report(y_test2, predictions2))\n",
        "print(\"Accuracy:\", accuracy_score(y_test2, predictions2))"
      ]
    },
    {
      "cell_type": "code",
      "execution_count": null,
      "id": "4f5770ea",
      "metadata": {
        "id": "4f5770ea",
        "outputId": "72926b56-b552-49c8-df1f-11ab2c07aef3"
      },
      "outputs": [
        {
          "name": "stdout",
          "output_type": "stream",
          "text": [
            "Class distribution after SMOTE:\n",
            "0    284315\n",
            "1    284315\n",
            "Name: Class, dtype: int64\n"
          ]
        }
      ],
      "source": [
        "from imblearn.over_sampling import SMOTE\n",
        "\n",
        "# Initialize SMOTE\n",
        "smote = SMOTE(random_state=42)\n",
        "\n",
        "# Reshape X_encoded to 2D array if needed\n",
        "if len(X_encoded2.shape) > 1:\n",
        "    X_encoded_flat = X_encoded2.reshape(X_encoded2.shape[0], -1)\n",
        "else:\n",
        "    X_encoded_flat = X_encoded2.reshape(-1, 1)\n",
        "\n",
        "# Apply SMOTE\n",
        "X_encoded3, y3 = smote.fit_resample(X_encoded_flat, y)\n",
        "\n",
        "# If the shape of X_encoded2 is different from the original, reshape it back\n",
        "if len(X_encoded2.shape) > 1:\n",
        "    X_encoded3 = X_encoded3.reshape(-1, X_encoded2.shape[1])\n",
        "\n",
        "# Display the class distribution after SMOTE\n",
        "print(\"Class distribution after SMOTE:\")\n",
        "print(pd.Series(y3).value_counts())"
      ]
    },
    {
      "cell_type": "code",
      "execution_count": null,
      "id": "36518c39",
      "metadata": {
        "id": "36518c39",
        "outputId": "33e1ca4a-70be-4f51-e85d-7923b1bbb7de"
      },
      "outputs": [
        {
          "name": "stdout",
          "output_type": "stream",
          "text": [
            "Classification Report: Decision Tree\n",
            "              precision    recall  f1-score   support\n",
            "\n",
            "           0       1.00      0.99      1.00     85149\n",
            "           1       0.99      1.00      1.00     85440\n",
            "\n",
            "    accuracy                           1.00    170589\n",
            "   macro avg       1.00      1.00      1.00    170589\n",
            "weighted avg       1.00      1.00      1.00    170589\n",
            "\n",
            "Accuracy: 0.995708984752827\n"
          ]
        }
      ],
      "source": [
        "from sklearn.metrics import classification_report\n",
        "# Split the data into train and test sets\n",
        "X_train, X_test, y_train, y_test = train_test_split(X_encoded3, y3, test_size=0.3, random_state=42)\n",
        "\n",
        "\n",
        "\n",
        "# Train the classifier (Decision Tree)\n",
        "clf = DecisionTreeClassifier()\n",
        "clf.fit(X_train, y_train)\n",
        "\n",
        "# Make predictions on the test set\n",
        "predictions1 = clf.predict(X_test)\n",
        "\n",
        "# Evaluate the classifier\n",
        "print(\"Classification Report: Decision Tree\")\n",
        "print(classification_report(y_test, predictions1))\n",
        "print(\"Accuracy:\", accuracy_score(y_test, predictions1))"
      ]
    },
    {
      "cell_type": "code",
      "execution_count": null,
      "id": "7c9fed43",
      "metadata": {
        "id": "7c9fed43",
        "outputId": "11265b57-9ec5-414d-fc32-3a3f3898ecc7"
      },
      "outputs": [
        {
          "data": {
            "image/png": "[encoded data removed]",
            "text/plain": [
              "<Figure size 1000x700 with 2 Axes>"
            ]
          },
          "metadata": {},
          "output_type": "display_data"
        }
      ],
      "source": [
        "# Confusion Matrix for Random Forest\n",
        "confusion_matrix_clf = confusion_matrix(y_test, predictions1)\n",
        "# Visualization\n",
        "plt.figure(figsize=(10,7))\n",
        "ax = plt.subplot()\n",
        "sns.heatmap(confusion_matrix_clf, annot=True, fmt='g', ax = ax)\n",
        "ax.set_xlabel('Predicted Values')\n",
        "ax.set_ylabel('Actual Values')\n",
        "ax.set_title('Confusion Matrix - Decision Tree Classifier')\n",
        "ax.xaxis.set_ticklabels(['Genuine','Fraud'])\n",
        "ax.yaxis.set_ticklabels(['Genuine','Fraud'])\n",
        "plt.show()"
      ]
    },
    {
      "cell_type": "code",
      "execution_count": null,
      "id": "2236c62d",
      "metadata": {
        "id": "2236c62d"
      },
      "outputs": [],
      "source": [
        "y_predictions_dt = predictions1"
      ]
    },
    {
      "cell_type": "code",
      "execution_count": null,
      "id": "2e479206",
      "metadata": {
        "id": "2e479206",
        "outputId": "e1402e1f-568a-48ad-b6d0-7c8148cb87c9"
      },
      "outputs": [
        {
          "data": {
            "text/html": [
              "<div>\n",
              "<style scoped>\n",
              "    .dataframe tbody tr th:only-of-type {\n",
              "        vertical-align: middle;\n",
              "    }\n",
              "\n",
              "    .dataframe tbody tr th {\n",
              "        vertical-align: top;\n",
              "    }\n",
              "\n",
              "    .dataframe thead th {\n",
              "        text-align: right;\n",
              "    }\n",
              "</style>\n",
              "<table border=\"1\" class=\"dataframe\">\n",
              "  <thead>\n",
              "    <tr style=\"text-align: right;\">\n",
              "      <th></th>\n",
              "      <th>Metrics</th>\n",
              "      <th>Results</th>\n",
              "    </tr>\n",
              "  </thead>\n",
              "  <tbody>\n",
              "    <tr>\n",
              "      <th>0</th>\n",
              "      <td>Accuracy</td>\n",
              "      <td>0.995709</td>\n",
              "    </tr>\n",
              "    <tr>\n",
              "      <th>1</th>\n",
              "      <td>Precision</td>\n",
              "      <td>0.992935</td>\n",
              "    </tr>\n",
              "    <tr>\n",
              "      <th>2</th>\n",
              "      <td>Recall</td>\n",
              "      <td>0.998537</td>\n",
              "    </tr>\n",
              "    <tr>\n",
              "      <th>3</th>\n",
              "      <td>F1_score</td>\n",
              "      <td>0.995728</td>\n",
              "    </tr>\n",
              "  </tbody>\n",
              "</table>\n",
              "</div>"
            ],
            "text/plain": [
              "     Metrics   Results\n",
              "0   Accuracy  0.995709\n",
              "1  Precision  0.992935\n",
              "2     Recall  0.998537\n",
              "3   F1_score  0.995728"
            ]
          },
          "execution_count": 19,
          "metadata": {},
          "output_type": "execute_result"
        }
      ],
      "source": [
        "# Printing Evaluation Metrics for Decision Tree\n",
        "metrics = [['Accuracy',(accuracy_score(y_test, y_predictions_dt))],\n",
        "                         ['Precision',precision_score(y_test, y_predictions_dt)],\n",
        "                         ['Recall', recall_score(y_test, y_predictions_dt)],\n",
        "                         ['F1_score',f1_score(y_test, y_predictions_dt)]]\n",
        "metrics_df = pd.DataFrame(metrics, columns = ['Metrics', 'Results'])\n",
        "metrics_df"
      ]
    },
    {
      "cell_type": "code",
      "execution_count": null,
      "id": "172d0c00",
      "metadata": {
        "id": "172d0c00",
        "outputId": "b1dedcde-2d5b-410e-b1a1-7bfd2bee0d74"
      },
      "outputs": [
        {
          "name": "stderr",
          "output_type": "stream",
          "text": [
            "C:\\Users\\student\\anaconda3\\Lib\\site-packages\\sklearn\\ensemble\\_weight_boosting.py:519: FutureWarning: The SAMME.R algorithm (the default) is deprecated and will be removed in 1.6. Use the SAMME algorithm to circumvent this warning.\n",
            "  warnings.warn(\n"
          ]
        }
      ],
      "source": [
        "# Applying Random Forest Classifier\n",
        "random_forest = RandomForestClassifier(n_estimators = 100, random_state = 123)\n",
        "random_forest.fit(X_train, y_train)\n",
        "\n",
        "\n",
        "y_predictions_rf = random_forest.predict(X_test)\n",
        "\n",
        "# Applying Ada Boost Classifier\n",
        "ada_boost = AdaBoostClassifier(n_estimators = 100, random_state = 123)\n",
        "ada_boost.fit(X_train, y_train)\n",
        "\n",
        "y_predictions_ab = ada_boost.predict(X_test)\n",
        "\n",
        "# Applying Gradient Boosting Classifier\n",
        "gradient_boosting = GradientBoostingClassifier(n_estimators = 100, random_state = 123)\n",
        "gradient_boosting.fit(X_train, y_train)\n",
        "\n",
        "y_prediction_gb = gradient_boosting.predict(X_test)"
      ]
    },
    {
      "cell_type": "code",
      "execution_count": null,
      "id": "da8d9728",
      "metadata": {
        "id": "da8d9728",
        "outputId": "030d3310-c1f3-4ba2-b8d2-14b58d2f1173"
      },
      "outputs": [
        {
          "data": {
            "image/png": "[encoded data removed]",
            "text/plain": [
              "<Figure size 1000x700 with 2 Axes>"
            ]
          },
          "metadata": {},
          "output_type": "display_data"
        }
      ],
      "source": [
        "# Confusion Matrix for Random Forest\n",
        "confusion_matrix_rf = confusion_matrix(y_test, y_predictions_rf)\n",
        "# Visualization\n",
        "plt.figure(figsize=(10,7))\n",
        "ax = plt.subplot()\n",
        "sns.heatmap(confusion_matrix_rf, annot=True, fmt='g', ax = ax)\n",
        "ax.set_xlabel('Predicted Values')\n",
        "ax.set_ylabel('Actual Values')\n",
        "ax.set_title('Confusion Matrix - Random Forest')\n",
        "ax.xaxis.set_ticklabels(['Genuine','Fraud'])\n",
        "ax.yaxis.set_ticklabels(['Genuine','Fraud'])\n",
        "plt.show()\n"
      ]
    },
    {
      "cell_type": "code",
      "execution_count": null,
      "id": "3e216e30",
      "metadata": {
        "id": "3e216e30",
        "outputId": "6b88a033-6719-431c-9c6b-0fdb15c5201d"
      },
      "outputs": [
        {
          "data": {
            "text/html": [
              "<div>\n",
              "<style scoped>\n",
              "    .dataframe tbody tr th:only-of-type {\n",
              "        vertical-align: middle;\n",
              "    }\n",
              "\n",
              "    .dataframe tbody tr th {\n",
              "        vertical-align: top;\n",
              "    }\n",
              "\n",
              "    .dataframe thead th {\n",
              "        text-align: right;\n",
              "    }\n",
              "</style>\n",
              "<table border=\"1\" class=\"dataframe\">\n",
              "  <thead>\n",
              "    <tr style=\"text-align: right;\">\n",
              "      <th></th>\n",
              "      <th>Metrics</th>\n",
              "      <th>Results</th>\n",
              "    </tr>\n",
              "  </thead>\n",
              "  <tbody>\n",
              "    <tr>\n",
              "      <th>0</th>\n",
              "      <td>Accuracy</td>\n",
              "      <td>0.999637</td>\n",
              "    </tr>\n",
              "    <tr>\n",
              "      <th>1</th>\n",
              "      <td>Precision</td>\n",
              "      <td>0.999275</td>\n",
              "    </tr>\n",
              "    <tr>\n",
              "      <th>2</th>\n",
              "      <td>Recall</td>\n",
              "      <td>1.000000</td>\n",
              "    </tr>\n",
              "    <tr>\n",
              "      <th>3</th>\n",
              "      <td>F1_score</td>\n",
              "      <td>0.999637</td>\n",
              "    </tr>\n",
              "  </tbody>\n",
              "</table>\n",
              "</div>"
            ],
            "text/plain": [
              "     Metrics   Results\n",
              "0   Accuracy  0.999637\n",
              "1  Precision  0.999275\n",
              "2     Recall  1.000000\n",
              "3   F1_score  0.999637"
            ]
          },
          "execution_count": 22,
          "metadata": {},
          "output_type": "execute_result"
        }
      ],
      "source": [
        "# Printing Evaluation Metrics for Random Forest\n",
        "metrics = [['Accuracy',(accuracy_score(y_test, y_predictions_rf))],\n",
        "                         ['Precision',precision_score(y_test, y_predictions_rf)],\n",
        "                         ['Recall', recall_score(y_test, y_predictions_rf)],\n",
        "                         ['F1_score',f1_score(y_test, y_predictions_rf)]]\n",
        "metrics_df = pd.DataFrame(metrics, columns = ['Metrics', 'Results'])\n",
        "metrics_df"
      ]
    },
    {
      "cell_type": "code",
      "execution_count": null,
      "id": "083dd10b",
      "metadata": {
        "id": "083dd10b",
        "outputId": "40a7a0d1-3152-4784-c04a-2dc4bac9cc3f"
      },
      "outputs": [
        {
          "data": {
            "image/png": "[encoded data removed]",
            "text/plain": [
              "<Figure size 1000x700 with 2 Axes>"
            ]
          },
          "metadata": {},
          "output_type": "display_data"
        }
      ],
      "source": [
        "# Confusion Matrix for ADA Boosting Classsifier\n",
        "confusion_matrix_ab = confusion_matrix(y_test, y_predictions_ab)\n",
        "# Visualization\n",
        "plt.figure(figsize=(10,7))\n",
        "ax = plt.subplot()\n",
        "sns.heatmap(confusion_matrix_ab, annot=True, fmt='g', ax = ax)\n",
        "ax.set_xlabel('Predicted Values')\n",
        "ax.set_ylabel('Actual Values')\n",
        "ax.set_title('Confusion Matrix - Ada Boost')\n",
        "ax.xaxis.set_ticklabels(['Genuine','Fraud'])\n",
        "ax.yaxis.set_ticklabels(['Genuine','Fraud'])\n",
        "plt.show()"
      ]
    },
    {
      "cell_type": "code",
      "execution_count": null,
      "id": "a2702737",
      "metadata": {
        "id": "a2702737",
        "outputId": "77c7db3f-3225-4c24-d678-9ee49857e240"
      },
      "outputs": [
        {
          "data": {
            "text/html": [
              "<div>\n",
              "<style scoped>\n",
              "    .dataframe tbody tr th:only-of-type {\n",
              "        vertical-align: middle;\n",
              "    }\n",
              "\n",
              "    .dataframe tbody tr th {\n",
              "        vertical-align: top;\n",
              "    }\n",
              "\n",
              "    .dataframe thead th {\n",
              "        text-align: right;\n",
              "    }\n",
              "</style>\n",
              "<table border=\"1\" class=\"dataframe\">\n",
              "  <thead>\n",
              "    <tr style=\"text-align: right;\">\n",
              "      <th></th>\n",
              "      <th>Metrics</th>\n",
              "      <th>Results</th>\n",
              "    </tr>\n",
              "  </thead>\n",
              "  <tbody>\n",
              "    <tr>\n",
              "      <th>0</th>\n",
              "      <td>Accuracy</td>\n",
              "      <td>0.978310</td>\n",
              "    </tr>\n",
              "    <tr>\n",
              "      <th>1</th>\n",
              "      <td>Precision</td>\n",
              "      <td>0.977253</td>\n",
              "    </tr>\n",
              "    <tr>\n",
              "      <th>2</th>\n",
              "      <td>Recall</td>\n",
              "      <td>0.979494</td>\n",
              "    </tr>\n",
              "    <tr>\n",
              "      <th>3</th>\n",
              "      <td>F1_score</td>\n",
              "      <td>0.978372</td>\n",
              "    </tr>\n",
              "  </tbody>\n",
              "</table>\n",
              "</div>"
            ],
            "text/plain": [
              "     Metrics   Results\n",
              "0   Accuracy  0.978310\n",
              "1  Precision  0.977253\n",
              "2     Recall  0.979494\n",
              "3   F1_score  0.978372"
            ]
          },
          "execution_count": 24,
          "metadata": {},
          "output_type": "execute_result"
        }
      ],
      "source": [
        "# Printing Evaluation Metrics for ADA Boosting Classsifier\n",
        "metrics = [['Accuracy',(accuracy_score(y_test, y_predictions_ab))],\n",
        "                         ['Precision',precision_score(y_test, y_predictions_ab)],\n",
        "                         ['Recall', recall_score(y_test, y_predictions_ab)],\n",
        "                         ['F1_score',f1_score(y_test, y_predictions_ab)]]\n",
        "metrics_df = pd.DataFrame(metrics, columns = ['Metrics', 'Results'])\n",
        "metrics_df"
      ]
    },
    {
      "cell_type": "code",
      "execution_count": null,
      "id": "4dce5f7c",
      "metadata": {
        "id": "4dce5f7c",
        "outputId": "42b822a7-ebea-441f-bfeb-65870d27d242"
      },
      "outputs": [
        {
          "data": {
            "image/png": "[encoded data removed]",
            "text/plain": [
              "<Figure size 1000x700 with 2 Axes>"
            ]
          },
          "metadata": {},
          "output_type": "display_data"
        }
      ],
      "source": [
        "# Confusion Matrix for Gradient Boosting Classsifier\n",
        "confusion_matrix_gb = confusion_matrix(y_test, y_prediction_gb)\n",
        "# Visualization\n",
        "plt.figure(figsize=(10,7))\n",
        "ax = plt.subplot()\n",
        "sns.heatmap(confusion_matrix_gb, annot=True, fmt='g', ax = ax)\n",
        "ax.set_xlabel('Predicted Values')\n",
        "ax.set_ylabel('Actual Values')\n",
        "ax.set_title('Confusion Matrix - Gradient Boosting Classifier')\n",
        "ax.xaxis.set_ticklabels(['Genuine','Fraud'])\n",
        "ax.yaxis.set_ticklabels(['Genuine','Fraud'])\n",
        "plt.show()"
      ]
    },
    {
      "cell_type": "code",
      "execution_count": null,
      "id": "7706230e",
      "metadata": {
        "id": "7706230e",
        "outputId": "f6e9ab39-ed77-4488-a13a-8ab409ce6302"
      },
      "outputs": [
        {
          "data": {
            "text/html": [
              "<div>\n",
              "<style scoped>\n",
              "    .dataframe tbody tr th:only-of-type {\n",
              "        vertical-align: middle;\n",
              "    }\n",
              "\n",
              "    .dataframe tbody tr th {\n",
              "        vertical-align: top;\n",
              "    }\n",
              "\n",
              "    .dataframe thead th {\n",
              "        text-align: right;\n",
              "    }\n",
              "</style>\n",
              "<table border=\"1\" class=\"dataframe\">\n",
              "  <thead>\n",
              "    <tr style=\"text-align: right;\">\n",
              "      <th></th>\n",
              "      <th>Metrics</th>\n",
              "      <th>Results</th>\n",
              "    </tr>\n",
              "  </thead>\n",
              "  <tbody>\n",
              "    <tr>\n",
              "      <th>0</th>\n",
              "      <td>Accuracy</td>\n",
              "      <td>0.979418</td>\n",
              "    </tr>\n",
              "    <tr>\n",
              "      <th>1</th>\n",
              "      <td>Precision</td>\n",
              "      <td>0.977381</td>\n",
              "    </tr>\n",
              "    <tr>\n",
              "      <th>2</th>\n",
              "      <td>Recall</td>\n",
              "      <td>0.981625</td>\n",
              "    </tr>\n",
              "    <tr>\n",
              "      <th>3</th>\n",
              "      <td>F1_score</td>\n",
              "      <td>0.979498</td>\n",
              "    </tr>\n",
              "  </tbody>\n",
              "</table>\n",
              "</div>"
            ],
            "text/plain": [
              "     Metrics   Results\n",
              "0   Accuracy  0.979418\n",
              "1  Precision  0.977381\n",
              "2     Recall  0.981625\n",
              "3   F1_score  0.979498"
            ]
          },
          "execution_count": 26,
          "metadata": {},
          "output_type": "execute_result"
        }
      ],
      "source": [
        "# Printing Evaluation Metrics for Gradient Boosting Classsifier\n",
        "metrics = [['Accuracy',(accuracy_score(y_test, y_prediction_gb))],\n",
        "                         ['Precision',precision_score(y_test, y_prediction_gb)],\n",
        "                         ['Recall', recall_score(y_test, y_prediction_gb)],\n",
        "                         ['F1_score',f1_score(y_test, y_prediction_gb)]]\n",
        "metrics_df = pd.DataFrame(metrics, columns = ['Metrics', 'Results'])\n",
        "metrics_df"
      ]
    },
    {
      "cell_type": "code",
      "execution_count": null,
      "id": "653bd424",
      "metadata": {
        "id": "653bd424",
        "outputId": "b661ea64-0bec-45c9-dd7b-b5bee7e0dfc5"
      },
      "outputs": [
        {
          "name": "stdout",
          "output_type": "stream",
          "text": [
            "[LightGBM] [Info] Number of positive: 198875, number of negative: 199166\n",
            "[LightGBM] [Info] Auto-choosing col-wise multi-threading, the overhead of testing was 1.181008 seconds.\n",
            "You can set `force_col_wise=true` to remove the overhead.\n",
            "[LightGBM] [Info] Total Bins 195840\n",
            "[LightGBM] [Info] Number of data points in the train set: 398041, number of used features: 768\n",
            "[LightGBM] [Info] [binary:BoostFromScore]: pavg=0.499634 -> initscore=-0.001462\n",
            "[LightGBM] [Info] Start training from score -0.001462\n"
          ]
        }
      ],
      "source": [
        "# Import the necessary libraries\n",
        "import lightgbm as lgb\n",
        "import xgboost as xgb\n",
        "\n",
        "# Applying LightGBM Classifier\n",
        "lightgbm_classifier = lgb.LGBMClassifier(n_estimators=100, random_state=123)\n",
        "lightgbm_classifier.fit(X_train, y_train)\n",
        "\n",
        "y_predictions_lgbm = lightgbm_classifier.predict(X_test)\n",
        "\n",
        "# Applying XGBoost Classifier\n",
        "xgboost_classifier = xgb.XGBClassifier(n_estimators=100, random_state=123)\n",
        "xgboost_classifier.fit(X_train, y_train)\n",
        "\n",
        "y_predictions_xgb = xgboost_classifier.predict(X_test)"
      ]
    },
    {
      "cell_type": "code",
      "execution_count": null,
      "id": "65e4763b",
      "metadata": {
        "id": "65e4763b",
        "outputId": "46d47e07-5c25-47fb-d7ba-1a322eaa10a5"
      },
      "outputs": [
        {
          "data": {
            "image/png": "[encoded data removed]",
            "text/plain": [
              "<Figure size 1000x700 with 2 Axes>"
            ]
          },
          "metadata": {},
          "output_type": "display_data"
        }
      ],
      "source": [
        "# Confusion Matrix for lgbm\n",
        "confusion_matrix_lgbm = confusion_matrix(y_test, y_predictions_lgbm)\n",
        "# Visualization\n",
        "plt.figure(figsize=(10,7))\n",
        "ax = plt.subplot()\n",
        "sns.heatmap(confusion_matrix_lgbm, annot=True, fmt='g', ax = ax)\n",
        "ax.set_xlabel('Predicted Values')\n",
        "ax.set_ylabel('Actual Values')\n",
        "ax.set_title('Confusion Matrix - Light GBM')\n",
        "ax.xaxis.set_ticklabels(['Genuine','Fraud'])\n",
        "ax.yaxis.set_ticklabels(['Genuine','Fraud'])\n",
        "plt.show()"
      ]
    },
    {
      "cell_type": "code",
      "execution_count": null,
      "id": "c7f17a0e",
      "metadata": {
        "id": "c7f17a0e",
        "outputId": "9b80f4a4-750c-4eef-c4b7-964c588cc477"
      },
      "outputs": [
        {
          "data": {
            "text/html": [
              "<div>\n",
              "<style scoped>\n",
              "    .dataframe tbody tr th:only-of-type {\n",
              "        vertical-align: middle;\n",
              "    }\n",
              "\n",
              "    .dataframe tbody tr th {\n",
              "        vertical-align: top;\n",
              "    }\n",
              "\n",
              "    .dataframe thead th {\n",
              "        text-align: right;\n",
              "    }\n",
              "</style>\n",
              "<table border=\"1\" class=\"dataframe\">\n",
              "  <thead>\n",
              "    <tr style=\"text-align: right;\">\n",
              "      <th></th>\n",
              "      <th>Metrics</th>\n",
              "      <th>Results</th>\n",
              "    </tr>\n",
              "  </thead>\n",
              "  <tbody>\n",
              "    <tr>\n",
              "      <th>0</th>\n",
              "      <td>Accuracy</td>\n",
              "      <td>0.998253</td>\n",
              "    </tr>\n",
              "    <tr>\n",
              "      <th>1</th>\n",
              "      <td>Precision</td>\n",
              "      <td>0.996524</td>\n",
              "    </tr>\n",
              "    <tr>\n",
              "      <th>2</th>\n",
              "      <td>Recall</td>\n",
              "      <td>1.000000</td>\n",
              "    </tr>\n",
              "    <tr>\n",
              "      <th>3</th>\n",
              "      <td>F1_score</td>\n",
              "      <td>0.998259</td>\n",
              "    </tr>\n",
              "  </tbody>\n",
              "</table>\n",
              "</div>"
            ],
            "text/plain": [
              "     Metrics   Results\n",
              "0   Accuracy  0.998253\n",
              "1  Precision  0.996524\n",
              "2     Recall  1.000000\n",
              "3   F1_score  0.998259"
            ]
          },
          "execution_count": 29,
          "metadata": {},
          "output_type": "execute_result"
        }
      ],
      "source": [
        "# Printing Evaluation Metrics for lgbm\n",
        "metrics = [['Accuracy',(accuracy_score(y_test, y_predictions_lgbm))],\n",
        "                         ['Precision',precision_score(y_test, y_predictions_lgbm)],\n",
        "                         ['Recall', recall_score(y_test, y_predictions_lgbm)],\n",
        "                         ['F1_score',f1_score(y_test, y_predictions_lgbm)]]\n",
        "metrics_df = pd.DataFrame(metrics, columns = ['Metrics', 'Results'])\n",
        "metrics_df"
      ]
    },
    {
      "cell_type": "code",
      "execution_count": null,
      "id": "4b3f3955",
      "metadata": {
        "id": "4b3f3955",
        "outputId": "fe8190bb-15f7-4897-fde2-540d5c11169c"
      },
      "outputs": [
        {
          "data": {
            "image/png": "[encoded data removed]",
            "text/plain": [
              "<Figure size 1000x700 with 2 Axes>"
            ]
          },
          "metadata": {},
          "output_type": "display_data"
        }
      ],
      "source": [
        "# Confusion Matrix for xgb\n",
        "confusion_matrix_xgb = confusion_matrix(y_test, y_predictions_xgb)\n",
        "# Visualization\n",
        "plt.figure(figsize=(10,7))\n",
        "ax = plt.subplot()\n",
        "sns.heatmap(confusion_matrix_xgb, annot=True, fmt='g', ax = ax)\n",
        "ax.set_xlabel('Predicted Values')\n",
        "ax.set_ylabel('Actual Values')\n",
        "ax.set_title('Confusion Matrix - XGB Boost Classifier')\n",
        "ax.xaxis.set_ticklabels(['Genuine','Fraud'])\n",
        "ax.yaxis.set_ticklabels(['Genuine','Fraud'])\n",
        "plt.show()"
      ]
    },
    {
      "cell_type": "code",
      "execution_count": null,
      "id": "f642df50",
      "metadata": {
        "id": "f642df50",
        "outputId": "988ac086-0d0e-4d34-c6a6-547e24a3dd46"
      },
      "outputs": [
        {
          "data": {
            "text/html": [
              "<div>\n",
              "<style scoped>\n",
              "    .dataframe tbody tr th:only-of-type {\n",
              "        vertical-align: middle;\n",
              "    }\n",
              "\n",
              "    .dataframe tbody tr th {\n",
              "        vertical-align: top;\n",
              "    }\n",
              "\n",
              "    .dataframe thead th {\n",
              "        text-align: right;\n",
              "    }\n",
              "</style>\n",
              "<table border=\"1\" class=\"dataframe\">\n",
              "  <thead>\n",
              "    <tr style=\"text-align: right;\">\n",
              "      <th></th>\n",
              "      <th>Metrics</th>\n",
              "      <th>Results</th>\n",
              "    </tr>\n",
              "  </thead>\n",
              "  <tbody>\n",
              "    <tr>\n",
              "      <th>0</th>\n",
              "      <td>Accuracy</td>\n",
              "      <td>0.999437</td>\n",
              "    </tr>\n",
              "    <tr>\n",
              "      <th>1</th>\n",
              "      <td>Precision</td>\n",
              "      <td>0.998878</td>\n",
              "    </tr>\n",
              "    <tr>\n",
              "      <th>2</th>\n",
              "      <td>Recall</td>\n",
              "      <td>1.000000</td>\n",
              "    </tr>\n",
              "    <tr>\n",
              "      <th>3</th>\n",
              "      <td>F1_score</td>\n",
              "      <td>0.999439</td>\n",
              "    </tr>\n",
              "  </tbody>\n",
              "</table>\n",
              "</div>"
            ],
            "text/plain": [
              "     Metrics   Results\n",
              "0   Accuracy  0.999437\n",
              "1  Precision  0.998878\n",
              "2     Recall  1.000000\n",
              "3   F1_score  0.999439"
            ]
          },
          "execution_count": 31,
          "metadata": {},
          "output_type": "execute_result"
        }
      ],
      "source": [
        "# Printing Evaluation Metrics for xgb\n",
        "metrics = [['Accuracy',(accuracy_score(y_test, y_predictions_xgb))],\n",
        "                         ['Precision',precision_score(y_test, y_predictions_xgb)],\n",
        "                         ['Recall', recall_score(y_test, y_predictions_xgb)],\n",
        "                         ['F1_score',f1_score(y_test, y_predictions_xgb)]]\n",
        "metrics_df = pd.DataFrame(metrics, columns = ['Metrics', 'Results'])\n",
        "metrics_df"
      ]
    },
    {
      "cell_type": "code",
      "execution_count": null,
      "id": "9b8e090a",
      "metadata": {
        "id": "9b8e090a",
        "outputId": "add6ebde-a0bc-45ac-9214-bdaf612ead91"
      },
      "outputs": [
        {
          "name": "stdout",
          "output_type": "stream",
          "text": [
            "                   Accuracy  Precision    Recall  F1 Score\n",
            "Decision Tree      0.995709   0.992935  0.998537  0.995728\n",
            "Random Forest      0.999637   0.999275  1.000000  0.999637\n",
            "Ada Boost          0.978310   0.977253  0.979494  0.978372\n",
            "Gradient Boosting  0.979418   0.977381  0.981625  0.979498\n",
            "LightGBM           0.998253   0.996524  1.000000  0.998259\n",
            "XGBoost            0.999437   0.998878  1.000000  0.999439\n"
          ]
        }
      ],
      "source": [
        "from sklearn.metrics import accuracy_score, precision_score, recall_score, f1_score, classification_report\n",
        "\n",
        "# Create a dictionary to store classifier names and predictions\n",
        "classifiers = {\n",
        "    'Decision Tree': y_predictions_dt,\n",
        "    'Random Forest': y_predictions_rf,\n",
        "    'Ada Boost': y_predictions_ab,\n",
        "    'Gradient Boosting': y_prediction_gb,\n",
        "    'LightGBM': y_predictions_lgbm,\n",
        "    'XGBoost': y_predictions_xgb\n",
        "}\n",
        "\n",
        "# Create an empty dictionary to store evaluation metrics\n",
        "evaluation_metrics = {}\n",
        "\n",
        "# Loop through classifiers and calculate evaluation metrics\n",
        "for clf_name, y_pred in classifiers.items():\n",
        "    accuracy = accuracy_score(y_test, y_pred)\n",
        "    precision = precision_score(y_test, y_pred)\n",
        "    recall = recall_score(y_test, y_pred)\n",
        "    f1 = f1_score(y_test, y_pred)\n",
        "\n",
        "    # Store evaluation metrics in the dictionary\n",
        "    evaluation_metrics[clf_name] = {'Accuracy': accuracy, 'Precision': precision, 'Recall': recall, 'F1 Score': f1}\n",
        "\n",
        "# Create a DataFrame from the dictionary of evaluation metrics\n",
        "metrics_df = pd.DataFrame.from_dict(evaluation_metrics, orient='index')\n",
        "\n",
        "# Display the DataFrame\n",
        "print(metrics_df)"
      ]
    },
    {
      "cell_type": "code",
      "execution_count": null,
      "id": "842af6b3",
      "metadata": {
        "id": "842af6b3"
      },
      "outputs": [],
      "source": [
        "\n",
        "\n",
        ""
      ]
    }
  ],
  "metadata": {
    "kernelspec": {
      "display_name": "Python 3 (ipykernel)",
      "language": "python",
      "name": "python3"
    },
    "language_info": {
      "codemirror_mode": {
        "name": "ipython",
        "version": 3
      },
      "file_extension": ".py",
      "mimetype": "text/x-python",
      "name": "python",
      "nbconvert_exporter": "python",
      "pygments_lexer": "ipython3",
      "version": "3.11.4"
    },
    "colab": {
      "provenance": []
    }
  },
  "nbformat": 4,
  "nbformat_minor": 5
}